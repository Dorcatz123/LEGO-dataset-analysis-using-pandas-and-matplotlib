{
 "cells": [
  {
   "cell_type": "markdown",
   "metadata": {},
   "source": [
    "# LEGO Dataset analysis"
   ]
  },
  {
   "cell_type": "markdown",
   "metadata": {},
   "source": [
    "<img src=\"./assets/harrypotter.jpg\">"
   ]
  },
  {
   "cell_type": "markdown",
   "metadata": {
    "colab_type": "text",
    "dc": {
     "key": "1d0b086e6c"
    },
    "id": "s9JLDE8NIquP",
    "run_control": {
     "frozen": true
    },
    "tags": [
     "context"
    ]
   },
   "source": [
    "# Introduction\n",
    "\n",
    "Today we'll dive deep into a dataset all about LEGO. From the dataset we can ask whole bunch of interesting questions about the history of the LEGO company, their product offering, and which LEGO set ultimately rules them all:\n",
    "\n",
    "<ul type=\"square\">\n",
    "<li>What is the most enormous LEGO set ever created and how many parts did it have?</li>\n",
    "\n",
    "<li>How did the LEGO company start out? In which year were the first LEGO sets released and how many sets did the company sell when it first launched?</li>\n",
    "\n",
    "<li>Which LEGO theme has the most sets? Is it one of LEGO's own themes like Ninjago or a theme they licensed liked Harry Potter or Marvel Superheroes?</li>\n",
    "\n",
    "<li>When did the LEGO company really expand its product offering? Can we spot a change in the company strategy based on how many themes and sets did it released year-on-year?</li>\n",
    "\n",
    "<li>Did LEGO sets grow in size and complexity over time? Do older LEGO \n",
    "sets tend to have more or fewer parts than newer sets?</li>\n",
    "</ul>\n",
    "\n",
    "**Data Source**\n",
    "\n",
    "[Rebrickable](https://rebrickable.com/downloads/) has compiled data on all the LEGO pieces in existence. "
   ]
  },
  {
   "cell_type": "markdown",
   "metadata": {},
   "source": [
    "<img src=\"./assets/bricks.jpg\">"
   ]
  },
  {
   "cell_type": "markdown",
   "metadata": {},
   "source": [
    "<img src=\"./assets/starwars_2.jpg\">"
   ]
  },
  {
   "cell_type": "markdown",
   "metadata": {
    "colab_type": "text",
    "id": "V0u2lGJuIquQ"
   },
   "source": [
    "# Import Statements"
   ]
  },
  {
   "cell_type": "code",
   "execution_count": 2,
   "metadata": {
    "colab": {},
    "colab_type": "code",
    "id": "z5Wk7rs-IquQ"
   },
   "outputs": [],
   "source": [
    "import numpy as np\n",
    "import pandas as pd"
   ]
  },
  {
   "cell_type": "markdown",
   "metadata": {
    "colab_type": "text",
    "id": "R5NQpJ_KIquT"
   },
   "source": [
    "# Data Exploration"
   ]
  },
  {
   "cell_type": "markdown",
   "metadata": {
    "colab_type": "text",
    "dc": {
     "key": "044b2cef41"
    },
    "id": "ffaG-UFYIquT",
    "run_control": {
     "frozen": true
    },
    "tags": [
     "context"
    ]
   },
   "source": [
    "**step1**: How many different colours does the LEGO company produce? Read the colors.csv file in the data folder and find the total number of unique colours. Try using the [.nunique() method](https://pandas.pydata.org/pandas-docs/stable/reference/api/pandas.DataFrame.nunique.html?highlight=nunique#pandas.DataFrame.nunique) to accomplish this."
   ]
  },
  {
   "cell_type": "code",
   "execution_count": 3,
   "metadata": {
    "colab": {},
    "colab_type": "code",
    "id": "yd4G9pK7IquU"
   },
   "outputs": [
    {
     "data": {
      "text/plain": [
       "135"
      ]
     },
     "execution_count": 3,
     "metadata": {},
     "output_type": "execute_result"
    }
   ],
   "source": [
    "lego=pd.read_csv(\"./data/colors.csv\")\n",
    "lego.name.nunique()\n",
    "#lego.name.value_counts()"
   ]
  },
  {
   "cell_type": "markdown",
   "metadata": {
    "colab_type": "text",
    "dc": {
     "key": "a5723ae5c2"
    },
    "id": "PItRbqgcIqua",
    "run_control": {
     "frozen": true
    },
    "tags": [
     "context"
    ]
   },
   "source": [
    "**step2**: Find the number of transparent colours where <code>is_trans == 't'</code> versus the number of opaque colours where <code>is_trans == 'f'</code>. See if you can accomplish this in two different ways."
   ]
  },
  {
   "cell_type": "code",
   "execution_count": 5,
   "metadata": {
    "colab": {},
    "colab_type": "code",
    "id": "1UZrfq82Iqub"
   },
   "outputs": [
    {
     "data": {
      "text/html": [
       "<div>\n",
       "<style scoped>\n",
       "    .dataframe tbody tr th:only-of-type {\n",
       "        vertical-align: middle;\n",
       "    }\n",
       "\n",
       "    .dataframe tbody tr th {\n",
       "        vertical-align: top;\n",
       "    }\n",
       "\n",
       "    .dataframe thead th {\n",
       "        text-align: right;\n",
       "    }\n",
       "</style>\n",
       "<table border=\"1\" class=\"dataframe\">\n",
       "  <thead>\n",
       "    <tr style=\"text-align: right;\">\n",
       "      <th></th>\n",
       "      <th>id</th>\n",
       "      <th>name</th>\n",
       "      <th>rgb</th>\n",
       "    </tr>\n",
       "    <tr>\n",
       "      <th>is_trans</th>\n",
       "      <th></th>\n",
       "      <th></th>\n",
       "      <th></th>\n",
       "    </tr>\n",
       "  </thead>\n",
       "  <tbody>\n",
       "    <tr>\n",
       "      <th>f</th>\n",
       "      <td>107</td>\n",
       "      <td>107</td>\n",
       "      <td>107</td>\n",
       "    </tr>\n",
       "    <tr>\n",
       "      <th>t</th>\n",
       "      <td>28</td>\n",
       "      <td>28</td>\n",
       "      <td>28</td>\n",
       "    </tr>\n",
       "  </tbody>\n",
       "</table>\n",
       "</div>"
      ],
      "text/plain": [
       "           id  name  rgb\n",
       "is_trans                \n",
       "f         107   107  107\n",
       "t          28    28   28"
      ]
     },
     "execution_count": 5,
     "metadata": {},
     "output_type": "execute_result"
    }
   ],
   "source": [
    "lego.is_trans.value_counts()\n",
    "lego.groupby('is_trans').count()"
   ]
  },
  {
   "cell_type": "markdown",
   "metadata": {
    "colab_type": "text",
    "id": "TMqdhUYcusfy"
   },
   "source": [
    "<h3>Understanding LEGO Themes vs. LEGO Sets</h3>\n",
    "  "
   ]
  },
  {
   "cell_type": "markdown",
   "metadata": {
    "colab_type": "text",
    "id": "y0kxCh63uwOv"
   },
   "source": [
    "Walk into a LEGO store and you will see their products organised by theme. Their themes include Star Wars, Batman, Harry Potter and many more.\n",
    "<img src=\"https://i.imgur.com/aKcwkSx.png\">"
   ]
  },
  {
   "cell_type": "markdown",
   "metadata": {
    "colab_type": "text",
    "dc": {
     "key": "c9d0e58653"
    },
    "id": "u_xkZUF8Iqug",
    "run_control": {
     "frozen": true
    },
    "tags": [
     "context"
    ]
   },
   "source": [
    "A lego set is a particular box of LEGO or product. Therefore, a single theme typically has many different sets.\n",
    "<img src=\"https://i.imgur.com/whB1olq.png\">"
   ]
  },
  {
   "cell_type": "markdown",
   "metadata": {
    "colab_type": "text",
    "id": "jJTAROe5unkx"
   },
   "source": [
    "The <code>sets.csv</code> data contains a list of sets over the years and the number of parts that each of these sets contained.\n",
    "\n",
    "**step3**: Read the sets.csv data and take a look at the first and last couple of rows. "
   ]
  },
  {
   "cell_type": "code",
   "execution_count": 6,
   "metadata": {
    "colab": {},
    "colab_type": "code",
    "id": "vGMOv-NRIquh"
   },
   "outputs": [],
   "source": [
    "df_sets = pd.read_csv(\"./data/sets.csv\")"
   ]
  },
  {
   "cell_type": "code",
   "execution_count": 7,
   "metadata": {
    "colab": {},
    "colab_type": "code",
    "id": "T3lLFvyZIqui"
   },
   "outputs": [
    {
     "data": {
      "text/html": [
       "<div>\n",
       "<style scoped>\n",
       "    .dataframe tbody tr th:only-of-type {\n",
       "        vertical-align: middle;\n",
       "    }\n",
       "\n",
       "    .dataframe tbody tr th {\n",
       "        vertical-align: top;\n",
       "    }\n",
       "\n",
       "    .dataframe thead th {\n",
       "        text-align: right;\n",
       "    }\n",
       "</style>\n",
       "<table border=\"1\" class=\"dataframe\">\n",
       "  <thead>\n",
       "    <tr style=\"text-align: right;\">\n",
       "      <th></th>\n",
       "      <th>set_num</th>\n",
       "      <th>name</th>\n",
       "      <th>year</th>\n",
       "      <th>theme_id</th>\n",
       "      <th>num_parts</th>\n",
       "    </tr>\n",
       "  </thead>\n",
       "  <tbody>\n",
       "    <tr>\n",
       "      <th>0</th>\n",
       "      <td>001-1</td>\n",
       "      <td>Gears</td>\n",
       "      <td>1965</td>\n",
       "      <td>1</td>\n",
       "      <td>43</td>\n",
       "    </tr>\n",
       "    <tr>\n",
       "      <th>1</th>\n",
       "      <td>0011-2</td>\n",
       "      <td>Town Mini-Figures</td>\n",
       "      <td>1978</td>\n",
       "      <td>84</td>\n",
       "      <td>12</td>\n",
       "    </tr>\n",
       "    <tr>\n",
       "      <th>2</th>\n",
       "      <td>0011-3</td>\n",
       "      <td>Castle 2 for 1 Bonus Offer</td>\n",
       "      <td>1987</td>\n",
       "      <td>199</td>\n",
       "      <td>0</td>\n",
       "    </tr>\n",
       "    <tr>\n",
       "      <th>3</th>\n",
       "      <td>0012-1</td>\n",
       "      <td>Space Mini-Figures</td>\n",
       "      <td>1979</td>\n",
       "      <td>143</td>\n",
       "      <td>12</td>\n",
       "    </tr>\n",
       "    <tr>\n",
       "      <th>4</th>\n",
       "      <td>0013-1</td>\n",
       "      <td>Space Mini-Figures</td>\n",
       "      <td>1979</td>\n",
       "      <td>143</td>\n",
       "      <td>12</td>\n",
       "    </tr>\n",
       "  </tbody>\n",
       "</table>\n",
       "</div>"
      ],
      "text/plain": [
       "  set_num                        name  year  theme_id  num_parts\n",
       "0   001-1                       Gears  1965         1         43\n",
       "1  0011-2           Town Mini-Figures  1978        84         12\n",
       "2  0011-3  Castle 2 for 1 Bonus Offer  1987       199          0\n",
       "3  0012-1          Space Mini-Figures  1979       143         12\n",
       "4  0013-1          Space Mini-Figures  1979       143         12"
      ]
     },
     "execution_count": 7,
     "metadata": {},
     "output_type": "execute_result"
    }
   ],
   "source": [
    "df_sets.head()"
   ]
  },
  {
   "cell_type": "code",
   "execution_count": 8,
   "metadata": {
    "colab": {},
    "colab_type": "code",
    "id": "XprDBmzwIquk"
   },
   "outputs": [
    {
     "data": {
      "text/html": [
       "<div>\n",
       "<style scoped>\n",
       "    .dataframe tbody tr th:only-of-type {\n",
       "        vertical-align: middle;\n",
       "    }\n",
       "\n",
       "    .dataframe tbody tr th {\n",
       "        vertical-align: top;\n",
       "    }\n",
       "\n",
       "    .dataframe thead th {\n",
       "        text-align: right;\n",
       "    }\n",
       "</style>\n",
       "<table border=\"1\" class=\"dataframe\">\n",
       "  <thead>\n",
       "    <tr style=\"text-align: right;\">\n",
       "      <th></th>\n",
       "      <th>set_num</th>\n",
       "      <th>name</th>\n",
       "      <th>year</th>\n",
       "      <th>theme_id</th>\n",
       "      <th>num_parts</th>\n",
       "    </tr>\n",
       "  </thead>\n",
       "  <tbody>\n",
       "    <tr>\n",
       "      <th>15705</th>\n",
       "      <td>wwgp1-1</td>\n",
       "      <td>Wild West Limited Edition Gift Pack</td>\n",
       "      <td>1996</td>\n",
       "      <td>476</td>\n",
       "      <td>0</td>\n",
       "    </tr>\n",
       "    <tr>\n",
       "      <th>15706</th>\n",
       "      <td>XMASTREE-1</td>\n",
       "      <td>Christmas Tree</td>\n",
       "      <td>2019</td>\n",
       "      <td>410</td>\n",
       "      <td>26</td>\n",
       "    </tr>\n",
       "    <tr>\n",
       "      <th>15707</th>\n",
       "      <td>XWING-1</td>\n",
       "      <td>Mini X-Wing Fighter</td>\n",
       "      <td>2019</td>\n",
       "      <td>158</td>\n",
       "      <td>60</td>\n",
       "    </tr>\n",
       "    <tr>\n",
       "      <th>15708</th>\n",
       "      <td>XWING-2</td>\n",
       "      <td>X-Wing Trench Run</td>\n",
       "      <td>2019</td>\n",
       "      <td>158</td>\n",
       "      <td>52</td>\n",
       "    </tr>\n",
       "    <tr>\n",
       "      <th>15709</th>\n",
       "      <td>YODACHRON-1</td>\n",
       "      <td>Yoda Chronicles Promotional Set</td>\n",
       "      <td>2013</td>\n",
       "      <td>158</td>\n",
       "      <td>413</td>\n",
       "    </tr>\n",
       "  </tbody>\n",
       "</table>\n",
       "</div>"
      ],
      "text/plain": [
       "           set_num                                 name  year  theme_id  \\\n",
       "15705      wwgp1-1  Wild West Limited Edition Gift Pack  1996       476   \n",
       "15706   XMASTREE-1                       Christmas Tree  2019       410   \n",
       "15707      XWING-1                  Mini X-Wing Fighter  2019       158   \n",
       "15708      XWING-2                    X-Wing Trench Run  2019       158   \n",
       "15709  YODACHRON-1      Yoda Chronicles Promotional Set  2013       158   \n",
       "\n",
       "       num_parts  \n",
       "15705          0  \n",
       "15706         26  \n",
       "15707         60  \n",
       "15708         52  \n",
       "15709        413  "
      ]
     },
     "execution_count": 8,
     "metadata": {},
     "output_type": "execute_result"
    }
   ],
   "source": [
    "df_sets.tail()"
   ]
  },
  {
   "cell_type": "markdown",
   "metadata": {
    "colab_type": "text",
    "id": "ez-UXSMUIqum"
   },
   "source": [
    "**step4**: In which year were the first LEGO sets released and what were these sets called?"
   ]
  },
  {
   "cell_type": "code",
   "execution_count": 29,
   "metadata": {
    "colab": {},
    "colab_type": "code",
    "id": "s2aL6qrGIqum"
   },
   "outputs": [
    {
     "data": {
      "text/plain": [
       "9521           Extra-Large Gift Set (ABB)\n",
       "9534                 Large Gift Set (ABB)\n",
       "9539                Medium Gift Set (ABB)\n",
       "9544                Small Brick Set (ABB)\n",
       "9545    Small Doors and Windows Set (ABB)\n",
       "Name: name, dtype: object"
      ]
     },
     "execution_count": 29,
     "metadata": {},
     "output_type": "execute_result"
    }
   ],
   "source": [
    "df_sets.loc[df_sets.year.nsmallest().index,'name']"
   ]
  },
  {
   "cell_type": "markdown",
   "metadata": {
    "colab_type": "text",
    "id": "JJoK3M8TBAVU"
   },
   "source": [
    "**step5**: How many different sets did LEGO sell in their first year? How many types of LEGO products were on offer in the year the company started?"
   ]
  },
  {
   "cell_type": "code",
   "execution_count": 15,
   "metadata": {
    "colab": {},
    "colab_type": "code",
    "id": "h-Tf1w7IBBg9"
   },
   "outputs": [
    {
     "data": {
      "text/plain": [
       "5"
      ]
     },
     "execution_count": 15,
     "metadata": {},
     "output_type": "execute_result"
    }
   ],
   "source": [
    "df_sets.loc[df_sets.year.nsmallest().index,'set_num'].nunique()"
   ]
  },
  {
   "cell_type": "markdown",
   "metadata": {},
   "source": [
    "<img src=\"./assets/starwars4.jpg\">"
   ]
  },
  {
   "cell_type": "markdown",
   "metadata": {
    "colab_type": "text",
    "id": "RJMMYQYqIquo"
   },
   "source": [
    "**step6**: Find the top 5 LEGO sets with the most number of parts. "
   ]
  },
  {
   "cell_type": "code",
   "execution_count": 30,
   "metadata": {
    "colab": {},
    "colab_type": "code",
    "id": "toJvjRuQIqup"
   },
   "outputs": [
    {
     "data": {
      "text/html": [
       "<div>\n",
       "<style scoped>\n",
       "    .dataframe tbody tr th:only-of-type {\n",
       "        vertical-align: middle;\n",
       "    }\n",
       "\n",
       "    .dataframe tbody tr th {\n",
       "        vertical-align: top;\n",
       "    }\n",
       "\n",
       "    .dataframe thead th {\n",
       "        text-align: right;\n",
       "    }\n",
       "</style>\n",
       "<table border=\"1\" class=\"dataframe\">\n",
       "  <thead>\n",
       "    <tr style=\"text-align: right;\">\n",
       "      <th></th>\n",
       "      <th>name</th>\n",
       "      <th>num_parts</th>\n",
       "      <th>year</th>\n",
       "    </tr>\n",
       "  </thead>\n",
       "  <tbody>\n",
       "    <tr>\n",
       "      <th>15004</th>\n",
       "      <td>The Ultimate Battle for Chima</td>\n",
       "      <td>9987</td>\n",
       "      <td>2015</td>\n",
       "    </tr>\n",
       "    <tr>\n",
       "      <th>11183</th>\n",
       "      <td>UCS Millennium Falcon</td>\n",
       "      <td>7541</td>\n",
       "      <td>2017</td>\n",
       "    </tr>\n",
       "    <tr>\n",
       "      <th>10551</th>\n",
       "      <td>Hogwarts Castle</td>\n",
       "      <td>6020</td>\n",
       "      <td>2018</td>\n",
       "    </tr>\n",
       "    <tr>\n",
       "      <th>295</th>\n",
       "      <td>Taj Mahal</td>\n",
       "      <td>5923</td>\n",
       "      <td>2017</td>\n",
       "    </tr>\n",
       "    <tr>\n",
       "      <th>221</th>\n",
       "      <td>Taj Mahal</td>\n",
       "      <td>5922</td>\n",
       "      <td>2008</td>\n",
       "    </tr>\n",
       "  </tbody>\n",
       "</table>\n",
       "</div>"
      ],
      "text/plain": [
       "                                name  num_parts  year\n",
       "15004  The Ultimate Battle for Chima       9987  2015\n",
       "11183          UCS Millennium Falcon       7541  2017\n",
       "10551                Hogwarts Castle       6020  2018\n",
       "295                        Taj Mahal       5923  2017\n",
       "221                        Taj Mahal       5922  2008"
      ]
     },
     "execution_count": 30,
     "metadata": {},
     "output_type": "execute_result"
    }
   ],
   "source": [
    "df_sets.loc[df_sets.num_parts.nlargest(5).index,['name','num_parts', 'year']]"
   ]
  },
  {
   "cell_type": "markdown",
   "metadata": {},
   "source": [
    "**LEGO with largest number of parts:**"
   ]
  },
  {
   "cell_type": "markdown",
   "metadata": {},
   "source": [
    "<img src=\"./assets/CHIMA.jpg\" width=\"500\" height=\"600\">"
   ]
  },
  {
   "cell_type": "markdown",
   "metadata": {
    "colab_type": "text",
    "id": "uSyhOzAHIqur"
   },
   "source": [
    "**step7**: Use <code>.groupby()</code> and <code>.count()</code> to show the number of LEGO sets released year-on-year. How do the number of sets released in 1955 compare to the number of sets released in 2019? "
   ]
  },
  {
   "cell_type": "code",
   "execution_count": 19,
   "metadata": {
    "colab": {},
    "colab_type": "code",
    "id": "qjdrktZAIqus",
    "scrolled": true
   },
   "outputs": [
    {
     "data": {
      "text/plain": [
       "year       \n",
       "1949  9534      178\n",
       "      9521      142\n",
       "      9539      142\n",
       "1950  9523        1\n",
       "      9526        1\n",
       "               ... \n",
       "2020  313      3898\n",
       "      5531     3696\n",
       "2021  11334       0\n",
       "      11335       0\n",
       "      11337       0\n",
       "Name: num_parts, Length: 213, dtype: int64"
      ]
     },
     "execution_count": 19,
     "metadata": {},
     "output_type": "execute_result"
    }
   ],
   "source": [
    "###number of parts sorted according to each year:\n",
    "df_sets.groupby(by='year').num_parts.nlargest(3)"
   ]
  },
  {
   "cell_type": "code",
   "execution_count": 21,
   "metadata": {},
   "outputs": [
    {
     "data": {
      "text/plain": [
       "year\n",
       "1949      5\n",
       "1950      6\n",
       "1953      4\n",
       "1954     14\n",
       "1955     28\n",
       "       ... \n",
       "2017    786\n",
       "2018    816\n",
       "2019    840\n",
       "2020    674\n",
       "2021      3\n",
       "Name: name, Length: 71, dtype: int64"
      ]
     },
     "execution_count": 21,
     "metadata": {},
     "output_type": "execute_result"
    }
   ],
   "source": [
    "###unique sets for each year:\n",
    "df_sets.groupby(by='year').name.count()"
   ]
  },
  {
   "cell_type": "markdown",
   "metadata": {},
   "source": [
    "**Difference in number of lego sets for 2019 and 1995**"
   ]
  },
  {
   "cell_type": "code",
   "execution_count": 22,
   "metadata": {
    "colab": {},
    "colab_type": "code",
    "id": "tFInsHOkIqut"
   },
   "outputs": [
    {
     "data": {
      "text/plain": [
       "665"
      ]
     },
     "execution_count": 22,
     "metadata": {},
     "output_type": "execute_result"
    }
   ],
   "source": [
    "df_sets.groupby(by='year').name.count().loc[2019] - df_sets.groupby(by='year').name.count().loc[1995]"
   ]
  },
  {
   "cell_type": "markdown",
   "metadata": {},
   "source": [
    "<img src=\"./assets/batman.jpg\">"
   ]
  },
  {
   "cell_type": "markdown",
   "metadata": {
    "colab_type": "text",
    "id": "xJrmIOULIquv"
   },
   "source": [
    "**step8**: Show the number of LEGO releases on a line chart using Matplotlib. <br>\n",
    "<br>\n",
    "Note that the .csv file is from late 2020, so to plot the full calendar years, you will have to exclude some data from your chart. Can you use the slicing techniques covered in Day 21 to avoid plotting the last two years? The same syntax will work on Pandas DataFrames. "
   ]
  },
  {
   "cell_type": "code",
   "execution_count": 23,
   "metadata": {
    "colab": {},
    "colab_type": "code",
    "id": "Nckj4lSGIquw"
   },
   "outputs": [
    {
     "data": {
      "text/plain": [
       "year\n",
       "1949      5\n",
       "1950      6\n",
       "1953      4\n",
       "1954     14\n",
       "1955     28\n",
       "       ... \n",
       "2015    774\n",
       "2016    757\n",
       "2017    786\n",
       "2018    816\n",
       "2019    840\n",
       "Name: set_num, Length: 69, dtype: int64"
      ]
     },
     "execution_count": 23,
     "metadata": {},
     "output_type": "execute_result"
    }
   ],
   "source": [
    "##everything except last two years:\n",
    "x = df_sets.groupby(by='year').count().set_num[:-2]\n",
    "x"
   ]
  },
  {
   "cell_type": "code",
   "execution_count": 168,
   "metadata": {
    "colab": {},
    "colab_type": "code",
    "id": "_ZqAN-5MIquz"
   },
   "outputs": [
    {
     "data": {
      "text/plain": [
       "Text(0, 0.5, 'sets')"
      ]
     },
     "execution_count": 168,
     "metadata": {},
     "output_type": "execute_result"
    },
    {
     "data": {
      "image/png": "[encoded data removed]",
      "text/plain": [
       "<Figure size 640x480 with 1 Axes>"
      ]
     },
     "metadata": {},
     "output_type": "display_data"
    }
   ],
   "source": [
    "from matplotlib import pyplot as plt\n",
    "plt.plot(x)\n",
    "plt.title('LEGO sets released each year:')\n",
    "plt.xlabel(\"years\")\n",
    "plt.ylabel(\"sets\")"
   ]
  },
  {
   "cell_type": "markdown",
   "metadata": {},
   "source": [
    "## **We see that in 1990's the company really took off even through theer was a steady growth prior to that**"
   ]
  },
  {
   "cell_type": "markdown",
   "metadata": {},
   "source": [
    "## **Also we see a breif decline in early 2000's and a strong recovery in 2005**"
   ]
  },
  {
   "cell_type": "markdown",
   "metadata": {
    "colab_type": "text",
    "id": "xrDeNYYXIqu1"
   },
   "source": [
    "### Aggregate Data with the Python .agg() Function\n",
    "\n",
    "Let's work out the number of different themes shipped by year. This means we have to count the number of unique theme_ids per calendar year."
   ]
  },
  {
   "cell_type": "code",
   "execution_count": 169,
   "metadata": {},
   "outputs": [
    {
     "data": {
      "text/plain": [
       "[(1949,\n",
       "  9521    365\n",
       "  9534    365\n",
       "  9539    365\n",
       "  9544    371\n",
       "  9545    371\n",
       "  Name: theme_id, dtype: int64),\n",
       " (1950,\n",
       "  9523    371\n",
       "  9526    371\n",
       "  9546    371\n",
       "  9547    371\n",
       "  9548    371\n",
       "  9549    371\n",
       "  Name: theme_id, dtype: int64),\n",
       " (1953,\n",
       "  9525    366\n",
       "  9530    371\n",
       "  9541    371\n",
       "  9557    371\n",
       "  Name: theme_id, dtype: int64),\n",
       " (1954,\n",
       "  9532    371\n",
       "  9533    371\n",
       "  9537    371\n",
       "  9538    371\n",
       "  9550    371\n",
       "  9551    371\n",
       "  9552    371\n",
       "  9553    371\n",
       "  9554    371\n",
       "  9555    371\n",
       "  9556    371\n",
       "  9559    372\n",
       "  9560    372\n",
       "  9562    371\n",
       "  Name: theme_id, dtype: int64),\n",
       " (1955,\n",
       "  872      372\n",
       "  889      372\n",
       "  892      372\n",
       "  894      372\n",
       "  896      372\n",
       "  898      371\n",
       "  903      371\n",
       "  905      371\n",
       "  907      371\n",
       "  911      371\n",
       "  915      371\n",
       "  923      371\n",
       "  927      371\n",
       "  929      371\n",
       "  931      371\n",
       "  934      371\n",
       "  935      371\n",
       "  936      371\n",
       "  938      371\n",
       "  948      371\n",
       "  959      371\n",
       "  961      372\n",
       "  967      371\n",
       "  970      371\n",
       "  980      371\n",
       "  982      371\n",
       "  1043     370\n",
       "  14995    497\n",
       "  Name: theme_id, dtype: int64),\n",
       " (1956,\n",
       "  873      372\n",
       "  940      371\n",
       "  942      371\n",
       "  944      371\n",
       "  951      371\n",
       "  952      371\n",
       "  1010     372\n",
       "  1053     372\n",
       "  2054     371\n",
       "  2118     371\n",
       "  2183     371\n",
       "  2216     372\n",
       "  14996    497\n",
       "  Name: theme_id, dtype: int64),\n",
       " (1957,\n",
       "  874     372\n",
       "  932     371\n",
       "  972     371\n",
       "  973     371\n",
       "  977     371\n",
       "  997     368\n",
       "  1046    372\n",
       "  1047    372\n",
       "  1049    372\n",
       "  1050    372\n",
       "  1753    372\n",
       "  1758    372\n",
       "  1759    372\n",
       "  2218    372\n",
       "  2632    371\n",
       "  2634    371\n",
       "  9536    366\n",
       "  9542    372\n",
       "  9558    372\n",
       "  9561    372\n",
       "  Name: theme_id, dtype: int64),\n",
       " (1958,\n",
       "  955      371\n",
       "  1842     372\n",
       "  1896     372\n",
       "  1968     372\n",
       "  2001     372\n",
       "  2019     371\n",
       "  2022     371\n",
       "  2041     371\n",
       "  2043     371\n",
       "  2044     371\n",
       "  2045     371\n",
       "  2046     371\n",
       "  2062     371\n",
       "  2073     371\n",
       "  2081     371\n",
       "  2088     371\n",
       "  2095     371\n",
       "  2098     371\n",
       "  2102     371\n",
       "  2112     371\n",
       "  2121     371\n",
       "  2125     371\n",
       "  2136     371\n",
       "  2147     371\n",
       "  2156     371\n",
       "  2161     371\n",
       "  2171     371\n",
       "  2192     371\n",
       "  2196     371\n",
       "  2204     371\n",
       "  2212     371\n",
       "  2270     371\n",
       "  2272     371\n",
       "  2279     371\n",
       "  2296     371\n",
       "  2495     372\n",
       "  2607     371\n",
       "  2608     371\n",
       "  2623     371\n",
       "  2625     371\n",
       "  3269     372\n",
       "  3281     372\n",
       "  3294     372\n",
       "  3303     372\n",
       "  3367     372\n",
       "  15389    366\n",
       "  Name: theme_id, dtype: int64),\n",
       " (1959,\n",
       "  1754     372\n",
       "  2615     371\n",
       "  2617     371\n",
       "  15691    366\n",
       "  Name: theme_id, dtype: int64),\n",
       " (1960,\n",
       "  2225    371\n",
       "  2231    497\n",
       "  9563    513\n",
       "  Name: theme_id, dtype: int64),\n",
       " (1961,\n",
       "  2016     371\n",
       "  2017     371\n",
       "  2020     371\n",
       "  2023     371\n",
       "  2025     371\n",
       "  2027     371\n",
       "  2029     371\n",
       "  2031     371\n",
       "  2033     371\n",
       "  2036     371\n",
       "  2047     371\n",
       "  2049     371\n",
       "  2051     371\n",
       "  2052     371\n",
       "  2053     371\n",
       "  2233     497\n",
       "  2277     371\n",
       "  2278     371\n",
       "  3435     374\n",
       "  3455     377\n",
       "  9564     513\n",
       "  12206    372\n",
       "  Name: theme_id, dtype: int64),\n",
       " (1962,\n",
       "  1755     372\n",
       "  2050     371\n",
       "  2162     371\n",
       "  2235     497\n",
       "  2236     497\n",
       "  7191     371\n",
       "  7192     365\n",
       "  7193     365\n",
       "  7195     365\n",
       "  7196     365\n",
       "  7197     365\n",
       "  7198     365\n",
       "  7207     365\n",
       "  7210     371\n",
       "  7211     365\n",
       "  7212     365\n",
       "  7214     365\n",
       "  7215     365\n",
       "  7216     365\n",
       "  7217     365\n",
       "  7226     365\n",
       "  7230     371\n",
       "  7231     365\n",
       "  7232     365\n",
       "  7234     365\n",
       "  7235     365\n",
       "  7236     365\n",
       "  7237     365\n",
       "  7240     371\n",
       "  7242     371\n",
       "  7251     371\n",
       "  7252     365\n",
       "  7254     371\n",
       "  7255     365\n",
       "  7256     365\n",
       "  7258     365\n",
       "  7259     365\n",
       "  7260     365\n",
       "  7261     365\n",
       "  7269     365\n",
       "  12210    372\n",
       "  Name: theme_id, dtype: int64),\n",
       " (1963,\n",
       "  2237     497\n",
       "  2238     497\n",
       "  2240     497\n",
       "  2271     371\n",
       "  2273     371\n",
       "  2274     371\n",
       "  3475     379\n",
       "  3487     378\n",
       "  3495     375\n",
       "  3497     378\n",
       "  3504     367\n",
       "  3702     367\n",
       "  4336     371\n",
       "  7244     371\n",
       "  7246     371\n",
       "  7248     371\n",
       "  7250     371\n",
       "  10053    523\n",
       "  13986    365\n",
       "  14997    497\n",
       "  Name: theme_id, dtype: int64),\n",
       " (1964,\n",
       "  27       440\n",
       "  2242     497\n",
       "  2244     497\n",
       "  3058     374\n",
       "  3163     375\n",
       "  3204     376\n",
       "  3541     367\n",
       "  3548     380\n",
       "  3554     367\n",
       "  4428     371\n",
       "  4513     371\n",
       "  12043    371\n",
       "  12084    365\n",
       "  12106    365\n",
       "  12116    365\n",
       "  12127    365\n",
       "  12139    365\n",
       "  12151    365\n",
       "  Name: theme_id, dtype: int64),\n",
       " (1965,\n",
       "  0          1\n",
       "  8          1\n",
       "  10       366\n",
       "  13       366\n",
       "  3515     378\n",
       "  3526     374\n",
       "  3534     366\n",
       "  3561     367\n",
       "  4779     371\n",
       "  7092     371\n",
       "  7100     371\n",
       "  13975    513\n",
       "  15391    408\n",
       "  Name: theme_id, dtype: int64),\n",
       " (1966,\n",
       "  9        366\n",
       "  16       366\n",
       "  29       440\n",
       "  35       371\n",
       "  36       371\n",
       "          ... \n",
       "  7008     369\n",
       "  9519     371\n",
       "  10354    501\n",
       "  12310    365\n",
       "  14998    499\n",
       "  Name: theme_id, Length: 111, dtype: int64),\n",
       " (1967,\n",
       "  11       366\n",
       "  63       366\n",
       "  64       366\n",
       "  809      235\n",
       "  818      235\n",
       "  1042     366\n",
       "  1260     243\n",
       "  1269     243\n",
       "  2255     383\n",
       "  2257     497\n",
       "  3579     374\n",
       "  3589     378\n",
       "  3625     381\n",
       "  3636     378\n",
       "  3646     382\n",
       "  3654     382\n",
       "  3668     382\n",
       "  3670     382\n",
       "  3741     377\n",
       "  4019     301\n",
       "  4611     371\n",
       "  4722     371\n",
       "  4729     371\n",
       "  5409     366\n",
       "  6317     371\n",
       "  6319     371\n",
       "  7228     371\n",
       "  13781    371\n",
       "  Name: theme_id, dtype: int64),\n",
       " (1968,\n",
       "  14      366\n",
       "  15      366\n",
       "  17      366\n",
       "  26      366\n",
       "  30      366\n",
       "  40      366\n",
       "  44      440\n",
       "  50      366\n",
       "  241     243\n",
       "  811     235\n",
       "  829     235\n",
       "  831     235\n",
       "  846     235\n",
       "  1284    243\n",
       "  1327    243\n",
       "  2110    366\n",
       "  2213    371\n",
       "  2220    372\n",
       "  2248    497\n",
       "  3488    378\n",
       "  3496    375\n",
       "  3499    378\n",
       "  3517    378\n",
       "  3528    374\n",
       "  3592    378\n",
       "  3614    378\n",
       "  3616    378\n",
       "  3627    381\n",
       "  3637    381\n",
       "  3656    382\n",
       "  3673    376\n",
       "  3700    367\n",
       "  3711    367\n",
       "  3715    367\n",
       "  3725    367\n",
       "  3727    367\n",
       "  3739    377\n",
       "  7016    369\n",
       "  7027    369\n",
       "  Name: theme_id, dtype: int64),\n",
       " (1969,\n",
       "  31       440\n",
       "  33       371\n",
       "  34       371\n",
       "  49       371\n",
       "  68       469\n",
       "          ... \n",
       "  14895    371\n",
       "  14906    473\n",
       "  14951    371\n",
       "  14956    371\n",
       "  15402    598\n",
       "  Name: theme_id, Length: 81, dtype: int64),\n",
       " (1970,\n",
       "  62       371\n",
       "  321      416\n",
       "  322      416\n",
       "  341      243\n",
       "  998      235\n",
       "  1297     423\n",
       "  1509     433\n",
       "  2606     433\n",
       "  3437     365\n",
       "  3449     371\n",
       "  3681     420\n",
       "  3760     413\n",
       "  3769     412\n",
       "  3781     417\n",
       "  3797     423\n",
       "  3910     433\n",
       "  3991     523\n",
       "  5661     433\n",
       "  5754     371\n",
       "  7123     505\n",
       "  7133     505\n",
       "  7947     420\n",
       "  8059     423\n",
       "  8168     417\n",
       "  8233     423\n",
       "  8405     417\n",
       "  8419     418\n",
       "  8437     412\n",
       "  8446     423\n",
       "  9961     242\n",
       "  10805    234\n",
       "  10810    234\n",
       "  10947    242\n",
       "  12056    472\n",
       "  12080    472\n",
       "  12099    472\n",
       "  15696    414\n",
       "  Name: theme_id, dtype: int64),\n",
       " (1971,\n",
       "  163      366\n",
       "  327      366\n",
       "  533      371\n",
       "  714      423\n",
       "  765      301\n",
       "  1025     235\n",
       "  1819     423\n",
       "  1956     433\n",
       "  2096     433\n",
       "  2179     433\n",
       "  2260     433\n",
       "  2308     416\n",
       "  2371     405\n",
       "  2384     405\n",
       "  3795     413\n",
       "  3807     413\n",
       "  3818     413\n",
       "  3831     416\n",
       "  3928     423\n",
       "  4017     416\n",
       "  4031     423\n",
       "  4042     420\n",
       "  4054     417\n",
       "  4066     423\n",
       "  4074     416\n",
       "  4082     416\n",
       "  4106     423\n",
       "  4108     413\n",
       "  5719     371\n",
       "  5720     371\n",
       "  7461     433\n",
       "  8244     416\n",
       "  8257     423\n",
       "  8285     413\n",
       "  8671     417\n",
       "  8692     416\n",
       "  8704     416\n",
       "  8713     418\n",
       "  8724     423\n",
       "  8735     423\n",
       "  8744     416\n",
       "  8753     418\n",
       "  9309     416\n",
       "  9320     416\n",
       "  9330     416\n",
       "  9341     423\n",
       "  12012    473\n",
       "  12021    473\n",
       "  12030    473\n",
       "  14905    473\n",
       "  15103    523\n",
       "  Name: theme_id, dtype: int64),\n",
       " (1972,\n",
       "  1023     235\n",
       "  1044     235\n",
       "  1054     235\n",
       "  1066     235\n",
       "  1238     517\n",
       "  1240     517\n",
       "  1268     412\n",
       "  1271     412\n",
       "  1340     243\n",
       "  1425     235\n",
       "  1435     235\n",
       "  1511     235\n",
       "  1520     235\n",
       "  2394     405\n",
       "  3841     413\n",
       "  3845     413\n",
       "  3853     421\n",
       "  3865     413\n",
       "  3902     473\n",
       "  4088     423\n",
       "  4098     423\n",
       "  7144     504\n",
       "  8269     416\n",
       "  8297     412\n",
       "  8762     416\n",
       "  8772     423\n",
       "  8791     423\n",
       "  8812     416\n",
       "  9349     416\n",
       "  9360     423\n",
       "  9362     423\n",
       "  10822    234\n",
       "  11959    473\n",
       "  11988    473\n",
       "  11997    473\n",
       "  12003    473\n",
       "  12039    473\n",
       "  12114    472\n",
       "  14284    473\n",
       "  Name: theme_id, dtype: int64),\n",
       " (1973,\n",
       "  22       505\n",
       "  374      469\n",
       "  756      433\n",
       "  803      469\n",
       "  1062     433\n",
       "          ... \n",
       "  14257    473\n",
       "  14263    473\n",
       "  14270    473\n",
       "  14276    473\n",
       "  14293    473\n",
       "  Name: theme_id, Length: 70, dtype: int64),\n",
       " (1974,\n",
       "  987      469\n",
       "  1188     469\n",
       "  1273     412\n",
       "  1383     363\n",
       "  1592     364\n",
       "  1739     364\n",
       "  2314     364\n",
       "  2321     364\n",
       "  2326     364\n",
       "  2405     405\n",
       "  2418     405\n",
       "  2432     405\n",
       "  2442     405\n",
       "  2552     405\n",
       "  2559     405\n",
       "  2753     405\n",
       "  2760     405\n",
       "  3912     416\n",
       "  3924     413\n",
       "  8330     416\n",
       "  8336     412\n",
       "  8347     416\n",
       "  8884     423\n",
       "  8896     412\n",
       "  8920     417\n",
       "  9403     416\n",
       "  9414     418\n",
       "  9423     417\n",
       "  9815     242\n",
       "  10811    234\n",
       "  10835    234\n",
       "  10933    242\n",
       "  11315    242\n",
       "  11343    242\n",
       "  12208    472\n",
       "  12220    472\n",
       "  12229    472\n",
       "  12242    472\n",
       "  14295    473\n",
       "  Name: theme_id, dtype: int64),\n",
       " (1975,\n",
       "  53       505\n",
       "  61       505\n",
       "  1077     235\n",
       "  1090     235\n",
       "  1110     235\n",
       "  1117     235\n",
       "  1209     235\n",
       "  1527     235\n",
       "  1625     364\n",
       "  1638     364\n",
       "  2329     364\n",
       "  2337     364\n",
       "  2344     364\n",
       "  3938     413\n",
       "  3949     420\n",
       "  3958     419\n",
       "  3968     424\n",
       "  3989     422\n",
       "  4195     404\n",
       "  4197     404\n",
       "  4229     404\n",
       "  5609     412\n",
       "  6194     417\n",
       "  6284     416\n",
       "  7168     505\n",
       "  7180     505\n",
       "  7205     505\n",
       "  7224     505\n",
       "  7239     505\n",
       "  7267     505\n",
       "  7765     416\n",
       "  8357     416\n",
       "  8933     421\n",
       "  8945     423\n",
       "  9431     416\n",
       "  9440     417\n",
       "  9451     423\n",
       "  11504    423\n",
       "  12254    472\n",
       "  Name: theme_id, dtype: int64),\n",
       " (1976,\n",
       "  52       505\n",
       "  65       505\n",
       "  66       505\n",
       "  154      516\n",
       "  232      469\n",
       "          ... \n",
       "  14093    469\n",
       "  15697    413\n",
       "  15698    413\n",
       "  15699    413\n",
       "  15700    413\n",
       "  Name: theme_id, Length: 76, dtype: int64),\n",
       " (1977,\n",
       "  323      456\n",
       "  725      469\n",
       "  727      443\n",
       "  729      456\n",
       "  730      443\n",
       "          ... \n",
       "  12867      4\n",
       "  13449      4\n",
       "  13463      4\n",
       "  14231    456\n",
       "  14899      4\n",
       "  Name: theme_id, Length: 99, dtype: int64),\n",
       " (1978,\n",
       "  1         84\n",
       "  7        186\n",
       "  48       505\n",
       "  67       632\n",
       "  824      453\n",
       "          ... \n",
       "  14403      4\n",
       "  14420      4\n",
       "  14442      4\n",
       "  14449      4\n",
       "  14528    473\n",
       "  Name: theme_id, Length: 78, dtype: int64),\n",
       " (1979,\n",
       "  3        143\n",
       "  4        143\n",
       "  5        143\n",
       "  6        143\n",
       "  21       652\n",
       "          ... \n",
       "  14219    130\n",
       "  14225    130\n",
       "  14351      4\n",
       "  14353      4\n",
       "  14411      4\n",
       "  Name: theme_id, Length: 92, dtype: int64),\n",
       " (1980,\n",
       "  343      516\n",
       "  455      533\n",
       "  554      511\n",
       "  772      473\n",
       "  775      443\n",
       "          ... \n",
       "  13459     19\n",
       "  13734      4\n",
       "  13736      4\n",
       "  13738      4\n",
       "  13766    498\n",
       "  Name: theme_id, Length: 102, dtype: int64),\n",
       " (1981,\n",
       "  440      533\n",
       "  459      533\n",
       "  739      469\n",
       "  777      453\n",
       "  779      443\n",
       "          ... \n",
       "  13779    473\n",
       "  14170    455\n",
       "  15192    533\n",
       "  15193    533\n",
       "  15555    501\n",
       "  Name: theme_id, Length: 84, dtype: int64),\n",
       " (1982,\n",
       "  467      533\n",
       "  713      453\n",
       "  801      453\n",
       "  823      453\n",
       "  882      443\n",
       "          ... \n",
       "  12111     21\n",
       "  12136     21\n",
       "  12185     21\n",
       "  13448      4\n",
       "  13721      4\n",
       "  Name: theme_id, Length: 84, dtype: int64),\n",
       " (1983,\n",
       "  326      532\n",
       "  957      443\n",
       "  1045     524\n",
       "  1317      85\n",
       "  1318     130\n",
       "          ... \n",
       "  11853    235\n",
       "  11883    234\n",
       "  11884    242\n",
       "  13715     11\n",
       "  13722      4\n",
       "  Name: theme_id, Length: 73, dtype: int64),\n",
       " (1984,\n",
       "  363       81\n",
       "  384      533\n",
       "  769      443\n",
       "  880      443\n",
       "  897      456\n",
       "          ... \n",
       "  12124     21\n",
       "  13718      7\n",
       "  13727      7\n",
       "  13767    498\n",
       "  15108    504\n",
       "  Name: theme_id, Length: 95, dtype: int64),\n",
       " (1985,\n",
       "  12        67\n",
       "  70       516\n",
       "  171      516\n",
       "  234      516\n",
       "  243      516\n",
       "          ... \n",
       "  11835    235\n",
       "  11846    473\n",
       "  11850    235\n",
       "  12204    473\n",
       "  15683     67\n",
       "  Name: theme_id, Length: 168, dtype: int64),\n",
       " (1986,\n",
       "  332        1\n",
       "  335      516\n",
       "  342      516\n",
       "  344      516\n",
       "  345      516\n",
       "          ... \n",
       "  14117    516\n",
       "  14120    516\n",
       "  14261    533\n",
       "  14262    533\n",
       "  14632    532\n",
       "  Name: theme_id, Length: 159, dtype: int64),\n",
       " (1987,\n",
       "  2        199\n",
       "  1055       1\n",
       "  1057       1\n",
       "  1058       1\n",
       "  1059       1\n",
       "          ... \n",
       "  13990    516\n",
       "  14355    534\n",
       "  14513    529\n",
       "  14898    524\n",
       "  14974    529\n",
       "  Name: theme_id, Length: 233, dtype: int64),\n",
       " (1988,\n",
       "  477      507\n",
       "  1215      85\n",
       "  1219     467\n",
       "  1224     505\n",
       "  1242     467\n",
       "          ... \n",
       "  14122    516\n",
       "  14133    516\n",
       "  14215    534\n",
       "  14296    516\n",
       "  14356    529\n",
       "  Name: theme_id, Length: 80, dtype: int64),\n",
       " (1989,\n",
       "  1214      85\n",
       "  1241     467\n",
       "  1243      82\n",
       "  1245      82\n",
       "  1246      82\n",
       "          ... \n",
       "  14126    516\n",
       "  14645    529\n",
       "  14646    532\n",
       "  14840      1\n",
       "  14975    516\n",
       "  Name: theme_id, Length: 134, dtype: int64),\n",
       " (1990,\n",
       "  1211     505\n",
       "  1249      67\n",
       "  1280     632\n",
       "  1281      68\n",
       "  1285      68\n",
       "          ... \n",
       "  13725     12\n",
       "  14127    516\n",
       "  14260    527\n",
       "  14444    532\n",
       "  14935    528\n",
       "  Name: theme_id, Length: 108, dtype: int64),\n",
       " (1991,\n",
       "  333      516\n",
       "  1202     467\n",
       "  1203      68\n",
       "  1204      82\n",
       "  1205     136\n",
       "          ... \n",
       "  14265    533\n",
       "  14308    534\n",
       "  14977    516\n",
       "  14980    516\n",
       "  15669     12\n",
       "  Name: theme_id, Length: 148, dtype: int64),\n",
       " (1992,\n",
       "  1190      82\n",
       "  1191     129\n",
       "  1192     190\n",
       "  1193     148\n",
       "  1217     188\n",
       "          ... \n",
       "  15221    244\n",
       "  15222    244\n",
       "  15223    244\n",
       "  15224    244\n",
       "  15488    408\n",
       "  Name: theme_id, Length: 135, dtype: int64),\n",
       " (1993,\n",
       "  1229     467\n",
       "  1259     652\n",
       "  1264     188\n",
       "  1302     505\n",
       "  1322     505\n",
       "          ... \n",
       "  14267    533\n",
       "  14448      1\n",
       "  14450      1\n",
       "  14543    507\n",
       "  14635      1\n",
       "  Name: theme_id, Length: 137, dtype: int64),\n",
       " (1994,\n",
       "  1300     505\n",
       "  1372     468\n",
       "  1375     468\n",
       "  1378     468\n",
       "  1382     468\n",
       "          ... \n",
       "  14969      1\n",
       "  14970      1\n",
       "  14971      1\n",
       "  14972      1\n",
       "  14973      1\n",
       "  Name: theme_id, Length: 164, dtype: int64),\n",
       " (1995,\n",
       "  1439     142\n",
       "  1440     473\n",
       "  1441     254\n",
       "  1443     399\n",
       "  1458     186\n",
       "          ... \n",
       "  14897      1\n",
       "  14936    528\n",
       "  14962      1\n",
       "  15676    133\n",
       "  15680     88\n",
       "  Name: theme_id, Length: 175, dtype: int64),\n",
       " (1996,\n",
       "  1393     471\n",
       "  1452     308\n",
       "  1459     131\n",
       "  1468     148\n",
       "  1469     308\n",
       "          ... \n",
       "  14634    532\n",
       "  14847    259\n",
       "  14848    259\n",
       "  14902      1\n",
       "  15705    476\n",
       "  Name: theme_id, Length: 198, dtype: int64),\n",
       " (1997,\n",
       "  709       82\n",
       "  771      227\n",
       "  1460     505\n",
       "  1492     658\n",
       "  1493      86\n",
       "          ... \n",
       "  14859    507\n",
       "  14934    528\n",
       "  15543    408\n",
       "  15687    144\n",
       "  15688     98\n",
       "  Name: theme_id, Length: 255, dtype: int64),\n",
       " (1998,\n",
       "  711       87\n",
       "  1041     212\n",
       "  1293     498\n",
       "  1510     505\n",
       "  2035      85\n",
       "          ... \n",
       "  14955    525\n",
       "  15027    186\n",
       "  15596    598\n",
       "  15614      3\n",
       "  15681     67\n",
       "  Name: theme_id, Length: 381, dtype: int64),\n",
       " (1999,\n",
       "  23       502\n",
       "  54       497\n",
       "  320       75\n",
       "  389      471\n",
       "  487       87\n",
       "          ... \n",
       "  15351     93\n",
       "  15353      5\n",
       "  15467     93\n",
       "  15546    501\n",
       "  15597     50\n",
       "  Name: theme_id, Length: 340, dtype: int64),\n",
       " (2000,\n",
       "  450       20\n",
       "  638      505\n",
       "  825      227\n",
       "  866      458\n",
       "  867      458\n",
       "          ... \n",
       "  15679    158\n",
       "  15682    298\n",
       "  15685    158\n",
       "  15686    158\n",
       "  15689    158\n",
       "  Name: theme_id, Length: 367, dtype: int64),\n",
       " (2001,\n",
       "  69       199\n",
       "  71       233\n",
       "  72       233\n",
       "  73       254\n",
       "  74       254\n",
       "          ... \n",
       "  15433    426\n",
       "  15434    426\n",
       "  15435    426\n",
       "  15539    273\n",
       "  15684    158\n",
       "  Name: theme_id, Length: 383, dtype: int64),\n",
       " (2002,\n",
       "  92       236\n",
       "  93       236\n",
       "  95       237\n",
       "  96       324\n",
       "  97       673\n",
       "          ... \n",
       "  15436    427\n",
       "  15437    427\n",
       "  15441    425\n",
       "  15442    425\n",
       "  15632    246\n",
       "  Name: theme_id, Length: 504, dtype: int64),\n",
       " (2003,\n",
       "  81       254\n",
       "  94       404\n",
       "  100      239\n",
       "  101      387\n",
       "  107       85\n",
       "          ... \n",
       "  15444    301\n",
       "  15449    301\n",
       "  15468     37\n",
       "  15677    158\n",
       "  15690    300\n",
       "  Name: theme_id, Length: 441, dtype: int64),\n",
       " (2004,\n",
       "  147      500\n",
       "  148      500\n",
       "  149      500\n",
       "  160      500\n",
       "  161      500\n",
       "          ... \n",
       "  15432    425\n",
       "  15445    301\n",
       "  15446    301\n",
       "  15448    301\n",
       "  15454    301\n",
       "  Name: theme_id, Length: 395, dtype: int64),\n",
       " (2005,\n",
       "  177      171\n",
       "  178      171\n",
       "  187      673\n",
       "  203      229\n",
       "  204      229\n",
       "          ... \n",
       "  15455    301\n",
       "  15547    501\n",
       "  15608    158\n",
       "  15612    158\n",
       "  15617    158\n",
       "  Name: theme_id, Length: 351, dtype: int64),\n",
       " (2006,\n",
       "  152      227\n",
       "  188      673\n",
       "  206      673\n",
       "  207      171\n",
       "  208      171\n",
       "          ... \n",
       "  15512    259\n",
       "  15562    441\n",
       "  15594    505\n",
       "  15602    505\n",
       "  15692    501\n",
       "  Name: theme_id, Length: 313, dtype: int64),\n",
       " (2007,\n",
       "  211      171\n",
       "  212      171\n",
       "  213      673\n",
       "  214      155\n",
       "  215      397\n",
       "          ... \n",
       "  15513    259\n",
       "  15514    259\n",
       "  15515    259\n",
       "  15516    259\n",
       "  15558    501\n",
       "  Name: theme_id, Length: 315, dtype: int64),\n",
       " (2008,\n",
       "  216      104\n",
       "  217      155\n",
       "  218      171\n",
       "  219      673\n",
       "  220      171\n",
       "          ... \n",
       "  15517    259\n",
       "  15518    259\n",
       "  15565    301\n",
       "  15573    408\n",
       "  15601    301\n",
       "  Name: theme_id, Length: 341, dtype: int64),\n",
       " (2009,\n",
       "  56       497\n",
       "  57       497\n",
       "  225      193\n",
       "  226      673\n",
       "  227      171\n",
       "          ... \n",
       "  15549    408\n",
       "  15564    408\n",
       "  15569     52\n",
       "  15626    158\n",
       "  15693    529\n",
       "  Name: theme_id, Length: 421, dtype: int64),\n",
       " (2010,\n",
       "  55       497\n",
       "  190      673\n",
       "  242      153\n",
       "  244      155\n",
       "  245      171\n",
       "          ... \n",
       "  15530    408\n",
       "  15538    259\n",
       "  15540    408\n",
       "  15631    408\n",
       "  15702    408\n",
       "  Name: theme_id, Length: 435, dtype: int64),\n",
       " (2011,\n",
       "  58       497\n",
       "  251      246\n",
       "  252      155\n",
       "  253      673\n",
       "  254      673\n",
       "          ... \n",
       "  15574    408\n",
       "  15606    408\n",
       "  15610    501\n",
       "  15621    408\n",
       "  15622    408\n",
       "  Name: theme_id, Length: 503, dtype: int64),\n",
       " (2012,\n",
       "  59       497\n",
       "  60       497\n",
       "  258      196\n",
       "  259      155\n",
       "  260      171\n",
       "          ... \n",
       "  15658    697\n",
       "  15659    701\n",
       "  15673    408\n",
       "  15674    408\n",
       "  15695    408\n",
       "  Name: theme_id, Length: 607, dtype: int64),\n",
       " (2013,\n",
       "  269      155\n",
       "  270      673\n",
       "  271      673\n",
       "  272      227\n",
       "  273      171\n",
       "          ... \n",
       "  15655     61\n",
       "  15675    408\n",
       "  15694    408\n",
       "  15704    494\n",
       "  15709    158\n",
       "  Name: theme_id, Length: 605, dtype: int64),\n",
       " (2014,\n",
       "  277      673\n",
       "  278      673\n",
       "  280      155\n",
       "  281      673\n",
       "  282      227\n",
       "          ... \n",
       "  15642    158\n",
       "  15660    696\n",
       "  15662    158\n",
       "  15666    158\n",
       "  15668    158\n",
       "  Name: theme_id, Length: 690, dtype: int64),\n",
       " (2015,\n",
       "  279      673\n",
       "  284      155\n",
       "  285      673\n",
       "  286      673\n",
       "  287      227\n",
       "          ... \n",
       "  15653    435\n",
       "  15654    435\n",
       "  15665    158\n",
       "  15667    158\n",
       "  15701    598\n",
       "  Name: theme_id, Length: 774, dtype: int64),\n",
       " (2016,\n",
       "  18       497\n",
       "  290      155\n",
       "  291      673\n",
       "  292      673\n",
       "  293      673\n",
       "          ... \n",
       "  15649    605\n",
       "  15650    605\n",
       "  15656    601\n",
       "  15657    605\n",
       "  15703    535\n",
       "  Name: theme_id, Length: 757, dtype: int64),\n",
       " (2017,\n",
       "  294      155\n",
       "  295      673\n",
       "  296      673\n",
       "  297      673\n",
       "  298      227\n",
       "          ... \n",
       "  15554    501\n",
       "  15570    598\n",
       "  15627    301\n",
       "  15633    708\n",
       "  15635    158\n",
       "  Name: theme_id, Length: 786, dtype: int64),\n",
       " (2018,\n",
       "  299      155\n",
       "  301      673\n",
       "  302      673\n",
       "  303      227\n",
       "  308      673\n",
       "          ... \n",
       "  15643    705\n",
       "  15661    158\n",
       "  15663    602\n",
       "  15664    246\n",
       "  15670    602\n",
       "  Name: theme_id, Length: 816, dtype: int64),\n",
       " (2019,\n",
       "  19       497\n",
       "  20       497\n",
       "  151      408\n",
       "  304      155\n",
       "  305      673\n",
       "          ... \n",
       "  15671    408\n",
       "  15672    410\n",
       "  15706    410\n",
       "  15707    158\n",
       "  15708    158\n",
       "  Name: theme_id, Length: 840, dtype: int64),\n",
       " (2020,\n",
       "  310      155\n",
       "  312      673\n",
       "  313      673\n",
       "  314      673\n",
       "  315      227\n",
       "          ... \n",
       "  15531    155\n",
       "  15553    621\n",
       "  15566    206\n",
       "  15615    232\n",
       "  15625    621\n",
       "  Name: theme_id, Length: 674, dtype: int64),\n",
       " (2021,\n",
       "  11334    689\n",
       "  11335    689\n",
       "  11337    689\n",
       "  Name: theme_id, dtype: int64)]"
      ]
     },
     "execution_count": 169,
     "metadata": {},
     "output_type": "execute_result"
    }
   ],
   "source": [
    "list(df_sets.groupby('year').theme_id)"
   ]
  },
  {
   "cell_type": "code",
   "execution_count": 33,
   "metadata": {
    "colab": {},
    "colab_type": "code",
    "dc": {
     "key": "266a3f390c"
    },
    "id": "qx8pTau4Iqu2",
    "tags": [
     "sample_code"
    ]
   },
   "outputs": [],
   "source": [
    "x = df_sets.groupby('year').theme_id.nunique()[:-2]"
   ]
  },
  {
   "cell_type": "markdown",
   "metadata": {
    "colab_type": "text",
    "id": "immCqqw1Iqu5"
   },
   "source": [
    "**step9**: Plot the number of themes released by year on a line chart. Only include the full calendar years (i.e., exclude 2020 and 2021). "
   ]
  },
  {
   "cell_type": "code",
   "execution_count": 35,
   "metadata": {
    "colab": {},
    "colab_type": "code",
    "id": "r2pamQEkIqu5"
   },
   "outputs": [
    {
     "data": {
      "text/plain": [
       "Text(0.5, 1.0, 'Number of unique themes per year')"
      ]
     },
     "execution_count": 35,
     "metadata": {},
     "output_type": "execute_result"
    },
    {
     "data": {
      "image/png": "[encoded data removed]",
      "text/plain": [
       "<Figure size 640x480 with 1 Axes>"
      ]
     },
     "metadata": {},
     "output_type": "display_data"
    }
   ],
   "source": [
    "from matplotlib import pyplot as plt\n",
    "plt.plot(x)\n",
    "plt.xlabel(\"years\")\n",
    "plt.ylabel(\"unique themes\")\n",
    "plt.title(\"Number of unique themes per year\")"
   ]
  },
  {
   "cell_type": "markdown",
   "metadata": {},
   "source": [
    "## **The number of themes added have increased every year untill late 1990's**\n",
    "\n",
    "## **from then on it has stagnated for around 10 years untill early 2010**\n"
   ]
  },
  {
   "cell_type": "markdown",
   "metadata": {
    "colab_type": "text",
    "id": "uBbt9-lJIqu7"
   },
   "source": [
    "### Line Charts with Two Seperate Axes"
   ]
  },
  {
   "cell_type": "code",
   "execution_count": 39,
   "metadata": {},
   "outputs": [
    {
     "data": {
      "text/plain": [
       "Text(0.5, 1.0, 'Number of unique themes and number of sets per year')"
      ]
     },
     "execution_count": 39,
     "metadata": {},
     "output_type": "execute_result"
    },
    {
     "data": {
      "image/png": "[encoded data removed]",
      "text/plain": [
       "<Figure size 640x480 with 1 Axes>"
      ]
     },
     "metadata": {},
     "output_type": "display_data"
    }
   ],
   "source": [
    "from matplotlib import pyplot as plt\n",
    "plt.plot(df_sets.groupby(by='year').count().set_num[:-2])\n",
    "plt.plot(df_sets.groupby('year').theme_id.nunique()[:-2])\n",
    "plt.xlabel(\"years\")\n",
    "plt.ylabel(\"unique themes and count\")\n",
    "plt.title(\"Number of unique themes and number of sets per year\")"
   ]
  },
  {
   "cell_type": "markdown",
   "metadata": {},
   "source": [
    "## **Two seperate axis:**"
   ]
  },
  {
   "cell_type": "code",
   "execution_count": 50,
   "metadata": {},
   "outputs": [
    {
     "data": {
      "text/plain": [
       "Text(0, 0.5, 'Number of Themes')"
      ]
     },
     "execution_count": 50,
     "metadata": {},
     "output_type": "execute_result"
    },
    {
     "data": {
      "image/png": "[encoded data removed]",
      "text/plain": [
       "<Figure size 640x480 with 2 Axes>"
      ]
     },
     "metadata": {},
     "output_type": "display_data"
    }
   ],
   "source": [
    "ax1 = plt.gca()\n",
    "ax2 = ax1.twinx()\n",
    "\n",
    "#styling:\n",
    "ax1.plot(df_sets.groupby(by='year').count().set_num[:-2], color='g')\n",
    "ax2.plot(df_sets.groupby('year').theme_id.nunique()[:-2], color='b')\n",
    "\n",
    "ax1.set_xlabel('year')\n",
    "ax1.set_ylabel('Number of Sets', color='g')\n",
    "ax2.set_ylabel('Number of Themes', color='b')"
   ]
  },
  {
   "cell_type": "code",
   "execution_count": 175,
   "metadata": {
    "colab": {},
    "colab_type": "code",
    "id": "j7lQ_amFIqu7"
   },
   "outputs": [
    {
     "data": {
      "text/html": [
       "<div>\n",
       "<style scoped>\n",
       "    .dataframe tbody tr th:only-of-type {\n",
       "        vertical-align: middle;\n",
       "    }\n",
       "\n",
       "    .dataframe tbody tr th {\n",
       "        vertical-align: top;\n",
       "    }\n",
       "\n",
       "    .dataframe thead th {\n",
       "        text-align: right;\n",
       "    }\n",
       "</style>\n",
       "<table border=\"1\" class=\"dataframe\">\n",
       "  <thead>\n",
       "    <tr style=\"text-align: right;\">\n",
       "      <th></th>\n",
       "      <th>set_num</th>\n",
       "      <th>name</th>\n",
       "      <th>year</th>\n",
       "      <th>theme_id</th>\n",
       "      <th>num_parts</th>\n",
       "    </tr>\n",
       "  </thead>\n",
       "  <tbody>\n",
       "    <tr>\n",
       "      <th>0</th>\n",
       "      <td>001-1</td>\n",
       "      <td>Gears</td>\n",
       "      <td>1965</td>\n",
       "      <td>1</td>\n",
       "      <td>43</td>\n",
       "    </tr>\n",
       "    <tr>\n",
       "      <th>1</th>\n",
       "      <td>0011-2</td>\n",
       "      <td>Town Mini-Figures</td>\n",
       "      <td>1978</td>\n",
       "      <td>84</td>\n",
       "      <td>12</td>\n",
       "    </tr>\n",
       "    <tr>\n",
       "      <th>2</th>\n",
       "      <td>0011-3</td>\n",
       "      <td>Castle 2 for 1 Bonus Offer</td>\n",
       "      <td>1987</td>\n",
       "      <td>199</td>\n",
       "      <td>0</td>\n",
       "    </tr>\n",
       "    <tr>\n",
       "      <th>3</th>\n",
       "      <td>0012-1</td>\n",
       "      <td>Space Mini-Figures</td>\n",
       "      <td>1979</td>\n",
       "      <td>143</td>\n",
       "      <td>12</td>\n",
       "    </tr>\n",
       "    <tr>\n",
       "      <th>4</th>\n",
       "      <td>0013-1</td>\n",
       "      <td>Space Mini-Figures</td>\n",
       "      <td>1979</td>\n",
       "      <td>143</td>\n",
       "      <td>12</td>\n",
       "    </tr>\n",
       "    <tr>\n",
       "      <th>...</th>\n",
       "      <td>...</td>\n",
       "      <td>...</td>\n",
       "      <td>...</td>\n",
       "      <td>...</td>\n",
       "      <td>...</td>\n",
       "    </tr>\n",
       "    <tr>\n",
       "      <th>15705</th>\n",
       "      <td>wwgp1-1</td>\n",
       "      <td>Wild West Limited Edition Gift Pack</td>\n",
       "      <td>1996</td>\n",
       "      <td>476</td>\n",
       "      <td>0</td>\n",
       "    </tr>\n",
       "    <tr>\n",
       "      <th>15706</th>\n",
       "      <td>XMASTREE-1</td>\n",
       "      <td>Christmas Tree</td>\n",
       "      <td>2019</td>\n",
       "      <td>410</td>\n",
       "      <td>26</td>\n",
       "    </tr>\n",
       "    <tr>\n",
       "      <th>15707</th>\n",
       "      <td>XWING-1</td>\n",
       "      <td>Mini X-Wing Fighter</td>\n",
       "      <td>2019</td>\n",
       "      <td>158</td>\n",
       "      <td>60</td>\n",
       "    </tr>\n",
       "    <tr>\n",
       "      <th>15708</th>\n",
       "      <td>XWING-2</td>\n",
       "      <td>X-Wing Trench Run</td>\n",
       "      <td>2019</td>\n",
       "      <td>158</td>\n",
       "      <td>52</td>\n",
       "    </tr>\n",
       "    <tr>\n",
       "      <th>15709</th>\n",
       "      <td>YODACHRON-1</td>\n",
       "      <td>Yoda Chronicles Promotional Set</td>\n",
       "      <td>2013</td>\n",
       "      <td>158</td>\n",
       "      <td>413</td>\n",
       "    </tr>\n",
       "  </tbody>\n",
       "</table>\n",
       "<p>15710 rows × 5 columns</p>\n",
       "</div>"
      ],
      "text/plain": [
       "           set_num                                 name  year  theme_id  \\\n",
       "0            001-1                                Gears  1965         1   \n",
       "1           0011-2                    Town Mini-Figures  1978        84   \n",
       "2           0011-3           Castle 2 for 1 Bonus Offer  1987       199   \n",
       "3           0012-1                   Space Mini-Figures  1979       143   \n",
       "4           0013-1                   Space Mini-Figures  1979       143   \n",
       "...            ...                                  ...   ...       ...   \n",
       "15705      wwgp1-1  Wild West Limited Edition Gift Pack  1996       476   \n",
       "15706   XMASTREE-1                       Christmas Tree  2019       410   \n",
       "15707      XWING-1                  Mini X-Wing Fighter  2019       158   \n",
       "15708      XWING-2                    X-Wing Trench Run  2019       158   \n",
       "15709  YODACHRON-1      Yoda Chronicles Promotional Set  2013       158   \n",
       "\n",
       "       num_parts  \n",
       "0             43  \n",
       "1             12  \n",
       "2              0  \n",
       "3             12  \n",
       "4             12  \n",
       "...          ...  \n",
       "15705          0  \n",
       "15706         26  \n",
       "15707         60  \n",
       "15708         52  \n",
       "15709        413  \n",
       "\n",
       "[15710 rows x 5 columns]"
      ]
     },
     "execution_count": 175,
     "metadata": {},
     "output_type": "execute_result"
    }
   ],
   "source": [
    "df_sets"
   ]
  },
  {
   "cell_type": "markdown",
   "metadata": {
    "colab_type": "text",
    "id": "7BHYaUf-Iqu9"
   },
   "source": [
    "**step10**: Use the <code>.groupby()</code> and <code>.agg()</code> function together to figure out the average number of parts per set. How many parts did the average LEGO set released in 1954 compared to say, 2017?"
   ]
  },
  {
   "cell_type": "code",
   "execution_count": 51,
   "metadata": {
    "colab": {},
    "colab_type": "code",
    "id": "W7BcH9vuIqu9"
   },
   "outputs": [],
   "source": [
    "x = df_sets.groupby('year').num_parts.mean()\n"
   ]
  },
  {
   "cell_type": "markdown",
   "metadata": {
    "colab_type": "text",
    "id": "bAeTe2XqIqvB"
   },
   "source": [
    "### Scatter Plots in Matplotlib"
   ]
  },
  {
   "cell_type": "markdown",
   "metadata": {
    "colab_type": "text",
    "id": "SAViZ_TYIqvB"
   },
   "source": [
    "**step11**: Has the size and complexity of LEGO sets increased over time based on the number of parts? Plot the average number of parts over time using a Matplotlib scatter plot. See if you can use the [scatter plot documentation](https://matplotlib.org/3.1.0/api/_as_gen/matplotlib.pyplot.scatter.html) before I show you the solution. Do you spot a trend in the chart? "
   ]
  },
  {
   "cell_type": "code",
   "execution_count": 52,
   "metadata": {
    "colab": {},
    "colab_type": "code",
    "id": "EQNZ0D7JIqvB"
   },
   "outputs": [
    {
     "data": {
      "text/plain": [
       "Text(0, 0.5, 'average size')"
      ]
     },
     "execution_count": 52,
     "metadata": {},
     "output_type": "execute_result"
    },
    {
     "data": {
      "image/png": "[encoded data removed]",
      "text/plain": [
       "<Figure size 640x480 with 1 Axes>"
      ]
     },
     "metadata": {},
     "output_type": "display_data"
    }
   ],
   "source": [
    "plt.scatter(x.index,x)\n",
    "plt.title(\"Average Lego size over time:\")\n",
    "plt.xlabel(\"years\")\n",
    "plt.ylabel(\"average size\")"
   ]
  },
  {
   "cell_type": "markdown",
   "metadata": {
    "colab_type": "text",
    "id": "xK226Ip-IqvE"
   },
   "source": [
    "### Number of Sets per LEGO Theme"
   ]
  },
  {
   "cell_type": "markdown",
   "metadata": {
    "colab_type": "text",
    "id": "VKHa1FePIqvE"
   },
   "source": [
    "LEGO has licensed many hit franchises from Harry Potter to Marvel Super Heros to many others. But which theme has the largest number of individual sets? "
   ]
  },
  {
   "cell_type": "code",
   "execution_count": 54,
   "metadata": {
    "colab": {},
    "colab_type": "code",
    "id": "hOBcNrC9IqvE"
   },
   "outputs": [
    {
     "data": {
      "text/plain": [
       "theme_id\n",
       "158    753\n",
       "501    656\n",
       "494    398\n",
       "435    356\n",
       "503    329\n",
       "Name: set_num, dtype: int64"
      ]
     },
     "execution_count": 54,
     "metadata": {},
     "output_type": "execute_result"
    }
   ],
   "source": [
    "df_sets.groupby('theme_id').set_num.count().nlargest()"
   ]
  },
  {
   "cell_type": "code",
   "execution_count": 56,
   "metadata": {},
   "outputs": [
    {
     "data": {
      "text/html": [
       "<div>\n",
       "<style scoped>\n",
       "    .dataframe tbody tr th:only-of-type {\n",
       "        vertical-align: middle;\n",
       "    }\n",
       "\n",
       "    .dataframe tbody tr th {\n",
       "        vertical-align: top;\n",
       "    }\n",
       "\n",
       "    .dataframe thead th {\n",
       "        text-align: right;\n",
       "    }\n",
       "</style>\n",
       "<table border=\"1\" class=\"dataframe\">\n",
       "  <thead>\n",
       "    <tr style=\"text-align: right;\">\n",
       "      <th></th>\n",
       "      <th>set_num</th>\n",
       "      <th>name</th>\n",
       "      <th>year</th>\n",
       "      <th>theme_id</th>\n",
       "      <th>num_parts</th>\n",
       "    </tr>\n",
       "  </thead>\n",
       "  <tbody>\n",
       "    <tr>\n",
       "      <th>7941</th>\n",
       "      <td>60004-1</td>\n",
       "      <td>Fire Station</td>\n",
       "      <td>2013</td>\n",
       "      <td>58</td>\n",
       "      <td>753</td>\n",
       "    </tr>\n",
       "  </tbody>\n",
       "</table>\n",
       "</div>"
      ],
      "text/plain": [
       "      set_num          name  year  theme_id  num_parts\n",
       "7941  60004-1  Fire Station  2013        58        753"
      ]
     },
     "execution_count": 56,
     "metadata": {},
     "output_type": "execute_result"
    }
   ],
   "source": [
    "df_sets[df_sets.num_parts == 753]"
   ]
  },
  {
   "cell_type": "markdown",
   "metadata": {
    "colab_type": "text",
    "id": "J-i6JULGIqvG"
   },
   "source": [
    "<img src=\"https://i.imgur.com/Sg4lcjx.png\">"
   ]
  },
  {
   "cell_type": "markdown",
   "metadata": {
    "colab_type": "text",
    "id": "27oDwiPHIqvH"
   },
   "source": []
  },
  {
   "cell_type": "markdown",
   "metadata": {
    "colab_type": "text",
    "id": "J_0iuerKIqvG"
   },
   "source": [
    "### Database Schemas, Foreign Keys and Merging DataFrames\n",
    "\n",
    "The themes.csv file has the actual theme names. The sets .csv has <code>theme_ids</code> which link to the <code>id</code> column in the themes.csv. "
   ]
  },
  {
   "cell_type": "markdown",
   "metadata": {
    "colab_type": "text",
    "id": "cp1tMW6oIqvH"
   },
   "source": [
    "**step12**: Explore the themes.csv. How is it structured? Search for the name 'Star Wars'. How many <code>id</code>s correspond to this name in the themes.csv? Now use these <code>id</code>s and find the corresponding the sets in the sets.csv (Hint: you'll need to look for matches in the <code>theme_id</code> column)"
   ]
  },
  {
   "cell_type": "code",
   "execution_count": 57,
   "metadata": {
    "colab": {},
    "colab_type": "code",
    "id": "3uN3wN5sIqvH"
   },
   "outputs": [
    {
     "data": {
      "text/html": [
       "<div>\n",
       "<style scoped>\n",
       "    .dataframe tbody tr th:only-of-type {\n",
       "        vertical-align: middle;\n",
       "    }\n",
       "\n",
       "    .dataframe tbody tr th {\n",
       "        vertical-align: top;\n",
       "    }\n",
       "\n",
       "    .dataframe thead th {\n",
       "        text-align: right;\n",
       "    }\n",
       "</style>\n",
       "<table border=\"1\" class=\"dataframe\">\n",
       "  <thead>\n",
       "    <tr style=\"text-align: right;\">\n",
       "      <th></th>\n",
       "      <th>id</th>\n",
       "      <th>name</th>\n",
       "      <th>parent_id</th>\n",
       "    </tr>\n",
       "  </thead>\n",
       "  <tbody>\n",
       "    <tr>\n",
       "      <th>17</th>\n",
       "      <td>18</td>\n",
       "      <td>Star Wars</td>\n",
       "      <td>1.0</td>\n",
       "    </tr>\n",
       "    <tr>\n",
       "      <th>150</th>\n",
       "      <td>158</td>\n",
       "      <td>Star Wars</td>\n",
       "      <td>NaN</td>\n",
       "    </tr>\n",
       "    <tr>\n",
       "      <th>174</th>\n",
       "      <td>209</td>\n",
       "      <td>Star Wars</td>\n",
       "      <td>207.0</td>\n",
       "    </tr>\n",
       "    <tr>\n",
       "      <th>211</th>\n",
       "      <td>261</td>\n",
       "      <td>Star Wars</td>\n",
       "      <td>258.0</td>\n",
       "    </tr>\n",
       "  </tbody>\n",
       "</table>\n",
       "</div>"
      ],
      "text/plain": [
       "      id       name  parent_id\n",
       "17    18  Star Wars        1.0\n",
       "150  158  Star Wars        NaN\n",
       "174  209  Star Wars      207.0\n",
       "211  261  Star Wars      258.0"
      ]
     },
     "execution_count": 57,
     "metadata": {},
     "output_type": "execute_result"
    }
   ],
   "source": [
    "themes = pd.read_csv(\"./data/themes.csv\")\n",
    "themes[themes.name == 'Star Wars']"
   ]
  },
  {
   "cell_type": "code",
   "execution_count": 58,
   "metadata": {
    "colab": {},
    "colab_type": "code",
    "id": "xAO2XlQGIqvJ"
   },
   "outputs": [
    {
     "data": {
      "text/html": [
       "<div>\n",
       "<style scoped>\n",
       "    .dataframe tbody tr th:only-of-type {\n",
       "        vertical-align: middle;\n",
       "    }\n",
       "\n",
       "    .dataframe tbody tr th {\n",
       "        vertical-align: top;\n",
       "    }\n",
       "\n",
       "    .dataframe thead th {\n",
       "        text-align: right;\n",
       "    }\n",
       "</style>\n",
       "<table border=\"1\" class=\"dataframe\">\n",
       "  <thead>\n",
       "    <tr style=\"text-align: right;\">\n",
       "      <th></th>\n",
       "      <th>set_num</th>\n",
       "      <th>name</th>\n",
       "      <th>year</th>\n",
       "      <th>theme_id</th>\n",
       "      <th>num_parts</th>\n",
       "    </tr>\n",
       "  </thead>\n",
       "  <tbody>\n",
       "    <tr>\n",
       "      <th>8786</th>\n",
       "      <td>65081-1</td>\n",
       "      <td>R2-D2 / C-3PO Droid Collectors Set</td>\n",
       "      <td>2002</td>\n",
       "      <td>18</td>\n",
       "      <td>1</td>\n",
       "    </tr>\n",
       "    <tr>\n",
       "      <th>12051</th>\n",
       "      <td>8000-1</td>\n",
       "      <td>Pit Droid</td>\n",
       "      <td>2000</td>\n",
       "      <td>18</td>\n",
       "      <td>223</td>\n",
       "    </tr>\n",
       "    <tr>\n",
       "      <th>12058</th>\n",
       "      <td>8001-1</td>\n",
       "      <td>Battle Droid</td>\n",
       "      <td>2000</td>\n",
       "      <td>18</td>\n",
       "      <td>336</td>\n",
       "    </tr>\n",
       "    <tr>\n",
       "      <th>12066</th>\n",
       "      <td>8002-1</td>\n",
       "      <td>Destroyer Droid</td>\n",
       "      <td>2000</td>\n",
       "      <td>18</td>\n",
       "      <td>567</td>\n",
       "    </tr>\n",
       "    <tr>\n",
       "      <th>12071</th>\n",
       "      <td>8007-1</td>\n",
       "      <td>C-3PO</td>\n",
       "      <td>2001</td>\n",
       "      <td>18</td>\n",
       "      <td>339</td>\n",
       "    </tr>\n",
       "    <tr>\n",
       "      <th>12072</th>\n",
       "      <td>8008-1</td>\n",
       "      <td>Stormtrooper</td>\n",
       "      <td>2001</td>\n",
       "      <td>18</td>\n",
       "      <td>360</td>\n",
       "    </tr>\n",
       "    <tr>\n",
       "      <th>12073</th>\n",
       "      <td>8009-1</td>\n",
       "      <td>R2-D2</td>\n",
       "      <td>2002</td>\n",
       "      <td>18</td>\n",
       "      <td>239</td>\n",
       "    </tr>\n",
       "    <tr>\n",
       "      <th>12074</th>\n",
       "      <td>8010-1</td>\n",
       "      <td>Darth Vader</td>\n",
       "      <td>2002</td>\n",
       "      <td>18</td>\n",
       "      <td>388</td>\n",
       "    </tr>\n",
       "    <tr>\n",
       "      <th>12081</th>\n",
       "      <td>8011-1</td>\n",
       "      <td>Jango Fett</td>\n",
       "      <td>2002</td>\n",
       "      <td>18</td>\n",
       "      <td>425</td>\n",
       "    </tr>\n",
       "    <tr>\n",
       "      <th>12083</th>\n",
       "      <td>8012-1</td>\n",
       "      <td>Super Battle Droid</td>\n",
       "      <td>2002</td>\n",
       "      <td>18</td>\n",
       "      <td>378</td>\n",
       "    </tr>\n",
       "    <tr>\n",
       "      <th>15273</th>\n",
       "      <td>K8008-1</td>\n",
       "      <td>Darth Vader / Stormtrooper Kit</td>\n",
       "      <td>2002</td>\n",
       "      <td>18</td>\n",
       "      <td>0</td>\n",
       "    </tr>\n",
       "  </tbody>\n",
       "</table>\n",
       "</div>"
      ],
      "text/plain": [
       "       set_num                                name  year  theme_id  num_parts\n",
       "8786   65081-1  R2-D2 / C-3PO Droid Collectors Set  2002        18          1\n",
       "12051   8000-1                           Pit Droid  2000        18        223\n",
       "12058   8001-1                        Battle Droid  2000        18        336\n",
       "12066   8002-1                     Destroyer Droid  2000        18        567\n",
       "12071   8007-1                               C-3PO  2001        18        339\n",
       "12072   8008-1                        Stormtrooper  2001        18        360\n",
       "12073   8009-1                               R2-D2  2002        18        239\n",
       "12074   8010-1                         Darth Vader  2002        18        388\n",
       "12081   8011-1                          Jango Fett  2002        18        425\n",
       "12083   8012-1                  Super Battle Droid  2002        18        378\n",
       "15273  K8008-1      Darth Vader / Stormtrooper Kit  2002        18          0"
      ]
     },
     "execution_count": 58,
     "metadata": {},
     "output_type": "execute_result"
    }
   ],
   "source": [
    "df_sets[df_sets.theme_id == 18]"
   ]
  },
  {
   "cell_type": "markdown",
   "metadata": {
    "colab": {},
    "colab_type": "code",
    "id": "xYEDlY-_IqvL"
   },
   "source": [
    "**Starwars LEGO:  R2-D2 / C-3PO Droid Collectors Set**\n",
    "<img src=\"./assets/starwars.jpg\">"
   ]
  },
  {
   "cell_type": "code",
   "execution_count": 59,
   "metadata": {
    "colab": {},
    "colab_type": "code",
    "id": "qBhckawNIqvN",
    "scrolled": true
   },
   "outputs": [
    {
     "data": {
      "text/html": [
       "<div>\n",
       "<style scoped>\n",
       "    .dataframe tbody tr th:only-of-type {\n",
       "        vertical-align: middle;\n",
       "    }\n",
       "\n",
       "    .dataframe tbody tr th {\n",
       "        vertical-align: top;\n",
       "    }\n",
       "\n",
       "    .dataframe thead th {\n",
       "        text-align: right;\n",
       "    }\n",
       "</style>\n",
       "<table border=\"1\" class=\"dataframe\">\n",
       "  <thead>\n",
       "    <tr style=\"text-align: right;\">\n",
       "      <th></th>\n",
       "      <th>set_num</th>\n",
       "      <th>name</th>\n",
       "      <th>year</th>\n",
       "      <th>theme_id</th>\n",
       "      <th>num_parts</th>\n",
       "    </tr>\n",
       "  </thead>\n",
       "  <tbody>\n",
       "    <tr>\n",
       "      <th>850</th>\n",
       "      <td>11912-1</td>\n",
       "      <td>Star Wars: Build Your Own Adventure</td>\n",
       "      <td>2016</td>\n",
       "      <td>158</td>\n",
       "      <td>73</td>\n",
       "    </tr>\n",
       "    <tr>\n",
       "      <th>855</th>\n",
       "      <td>11920-1</td>\n",
       "      <td>Parts for Star Wars Build Your Own Adventure: ...</td>\n",
       "      <td>2019</td>\n",
       "      <td>158</td>\n",
       "      <td>70</td>\n",
       "    </tr>\n",
       "    <tr>\n",
       "      <th>1717</th>\n",
       "      <td>20006-1</td>\n",
       "      <td>Clone Turbo Tank - Mini</td>\n",
       "      <td>2008</td>\n",
       "      <td>158</td>\n",
       "      <td>64</td>\n",
       "    </tr>\n",
       "    <tr>\n",
       "      <th>1728</th>\n",
       "      <td>20007-1</td>\n",
       "      <td>Republic Attack Cruiser - Mini</td>\n",
       "      <td>2009</td>\n",
       "      <td>158</td>\n",
       "      <td>84</td>\n",
       "    </tr>\n",
       "    <tr>\n",
       "      <th>1738</th>\n",
       "      <td>20009-1</td>\n",
       "      <td>AT-TE Walker - Mini</td>\n",
       "      <td>2009</td>\n",
       "      <td>158</td>\n",
       "      <td>94</td>\n",
       "    </tr>\n",
       "    <tr>\n",
       "      <th>...</th>\n",
       "      <td>...</td>\n",
       "      <td>...</td>\n",
       "      <td>...</td>\n",
       "      <td>...</td>\n",
       "      <td>...</td>\n",
       "    </tr>\n",
       "    <tr>\n",
       "      <th>15686</th>\n",
       "      <td>VP-4</td>\n",
       "      <td>Star Wars Co-Pack of 7101 7111 and 7171</td>\n",
       "      <td>2000</td>\n",
       "      <td>158</td>\n",
       "      <td>0</td>\n",
       "    </tr>\n",
       "    <tr>\n",
       "      <th>15689</th>\n",
       "      <td>VP-8</td>\n",
       "      <td>Star Wars Co-Pack of 7130 and 7150</td>\n",
       "      <td>2000</td>\n",
       "      <td>158</td>\n",
       "      <td>0</td>\n",
       "    </tr>\n",
       "    <tr>\n",
       "      <th>15707</th>\n",
       "      <td>XWING-1</td>\n",
       "      <td>Mini X-Wing Fighter</td>\n",
       "      <td>2019</td>\n",
       "      <td>158</td>\n",
       "      <td>60</td>\n",
       "    </tr>\n",
       "    <tr>\n",
       "      <th>15708</th>\n",
       "      <td>XWING-2</td>\n",
       "      <td>X-Wing Trench Run</td>\n",
       "      <td>2019</td>\n",
       "      <td>158</td>\n",
       "      <td>52</td>\n",
       "    </tr>\n",
       "    <tr>\n",
       "      <th>15709</th>\n",
       "      <td>YODACHRON-1</td>\n",
       "      <td>Yoda Chronicles Promotional Set</td>\n",
       "      <td>2013</td>\n",
       "      <td>158</td>\n",
       "      <td>413</td>\n",
       "    </tr>\n",
       "  </tbody>\n",
       "</table>\n",
       "<p>753 rows × 5 columns</p>\n",
       "</div>"
      ],
      "text/plain": [
       "           set_num                                               name  year  \\\n",
       "850        11912-1                Star Wars: Build Your Own Adventure  2016   \n",
       "855        11920-1  Parts for Star Wars Build Your Own Adventure: ...  2019   \n",
       "1717       20006-1                            Clone Turbo Tank - Mini  2008   \n",
       "1728       20007-1                     Republic Attack Cruiser - Mini  2009   \n",
       "1738       20009-1                                AT-TE Walker - Mini  2009   \n",
       "...            ...                                                ...   ...   \n",
       "15686         VP-4            Star Wars Co-Pack of 7101 7111 and 7171  2000   \n",
       "15689         VP-8                 Star Wars Co-Pack of 7130 and 7150  2000   \n",
       "15707      XWING-1                                Mini X-Wing Fighter  2019   \n",
       "15708      XWING-2                                  X-Wing Trench Run  2019   \n",
       "15709  YODACHRON-1                    Yoda Chronicles Promotional Set  2013   \n",
       "\n",
       "       theme_id  num_parts  \n",
       "850         158         73  \n",
       "855         158         70  \n",
       "1717        158         64  \n",
       "1728        158         84  \n",
       "1738        158         94  \n",
       "...         ...        ...  \n",
       "15686       158          0  \n",
       "15689       158          0  \n",
       "15707       158         60  \n",
       "15708       158         52  \n",
       "15709       158        413  \n",
       "\n",
       "[753 rows x 5 columns]"
      ]
     },
     "execution_count": 59,
     "metadata": {},
     "output_type": "execute_result"
    }
   ],
   "source": [
    "df_sets[df_sets.theme_id == 158]"
   ]
  },
  {
   "cell_type": "markdown",
   "metadata": {
    "colab": {},
    "colab_type": "code",
    "id": "aqt07DSTIqvP",
    "scrolled": true
   },
   "source": [
    "**Starwars LEGO: X-wing**\n",
    "<img src=\"./assets/starwars_1.jpg\">"
   ]
  },
  {
   "cell_type": "markdown",
   "metadata": {
    "colab_type": "text",
    "id": "SmTCXWKKIqvQ"
   },
   "source": [
    "### Merging (i.e., Combining) DataFrames based on a Key\n"
   ]
  },
  {
   "cell_type": "code",
   "execution_count": 61,
   "metadata": {},
   "outputs": [
    {
     "data": {
      "text/html": [
       "<div>\n",
       "<style scoped>\n",
       "    .dataframe tbody tr th:only-of-type {\n",
       "        vertical-align: middle;\n",
       "    }\n",
       "\n",
       "    .dataframe tbody tr th {\n",
       "        vertical-align: top;\n",
       "    }\n",
       "\n",
       "    .dataframe thead th {\n",
       "        text-align: right;\n",
       "    }\n",
       "</style>\n",
       "<table border=\"1\" class=\"dataframe\">\n",
       "  <thead>\n",
       "    <tr style=\"text-align: right;\">\n",
       "      <th></th>\n",
       "      <th>set_num</th>\n",
       "      <th>name</th>\n",
       "      <th>year</th>\n",
       "      <th>theme_id</th>\n",
       "      <th>num_parts</th>\n",
       "    </tr>\n",
       "  </thead>\n",
       "  <tbody>\n",
       "    <tr>\n",
       "      <th>0</th>\n",
       "      <td>001-1</td>\n",
       "      <td>Gears</td>\n",
       "      <td>1965</td>\n",
       "      <td>1</td>\n",
       "      <td>43</td>\n",
       "    </tr>\n",
       "    <tr>\n",
       "      <th>1</th>\n",
       "      <td>0011-2</td>\n",
       "      <td>Town Mini-Figures</td>\n",
       "      <td>1978</td>\n",
       "      <td>84</td>\n",
       "      <td>12</td>\n",
       "    </tr>\n",
       "    <tr>\n",
       "      <th>2</th>\n",
       "      <td>0011-3</td>\n",
       "      <td>Castle 2 for 1 Bonus Offer</td>\n",
       "      <td>1987</td>\n",
       "      <td>199</td>\n",
       "      <td>0</td>\n",
       "    </tr>\n",
       "    <tr>\n",
       "      <th>3</th>\n",
       "      <td>0012-1</td>\n",
       "      <td>Space Mini-Figures</td>\n",
       "      <td>1979</td>\n",
       "      <td>143</td>\n",
       "      <td>12</td>\n",
       "    </tr>\n",
       "    <tr>\n",
       "      <th>4</th>\n",
       "      <td>0013-1</td>\n",
       "      <td>Space Mini-Figures</td>\n",
       "      <td>1979</td>\n",
       "      <td>143</td>\n",
       "      <td>12</td>\n",
       "    </tr>\n",
       "    <tr>\n",
       "      <th>...</th>\n",
       "      <td>...</td>\n",
       "      <td>...</td>\n",
       "      <td>...</td>\n",
       "      <td>...</td>\n",
       "      <td>...</td>\n",
       "    </tr>\n",
       "    <tr>\n",
       "      <th>15705</th>\n",
       "      <td>wwgp1-1</td>\n",
       "      <td>Wild West Limited Edition Gift Pack</td>\n",
       "      <td>1996</td>\n",
       "      <td>476</td>\n",
       "      <td>0</td>\n",
       "    </tr>\n",
       "    <tr>\n",
       "      <th>15706</th>\n",
       "      <td>XMASTREE-1</td>\n",
       "      <td>Christmas Tree</td>\n",
       "      <td>2019</td>\n",
       "      <td>410</td>\n",
       "      <td>26</td>\n",
       "    </tr>\n",
       "    <tr>\n",
       "      <th>15707</th>\n",
       "      <td>XWING-1</td>\n",
       "      <td>Mini X-Wing Fighter</td>\n",
       "      <td>2019</td>\n",
       "      <td>158</td>\n",
       "      <td>60</td>\n",
       "    </tr>\n",
       "    <tr>\n",
       "      <th>15708</th>\n",
       "      <td>XWING-2</td>\n",
       "      <td>X-Wing Trench Run</td>\n",
       "      <td>2019</td>\n",
       "      <td>158</td>\n",
       "      <td>52</td>\n",
       "    </tr>\n",
       "    <tr>\n",
       "      <th>15709</th>\n",
       "      <td>YODACHRON-1</td>\n",
       "      <td>Yoda Chronicles Promotional Set</td>\n",
       "      <td>2013</td>\n",
       "      <td>158</td>\n",
       "      <td>413</td>\n",
       "    </tr>\n",
       "  </tbody>\n",
       "</table>\n",
       "<p>15710 rows × 5 columns</p>\n",
       "</div>"
      ],
      "text/plain": [
       "           set_num                                 name  year  theme_id  \\\n",
       "0            001-1                                Gears  1965         1   \n",
       "1           0011-2                    Town Mini-Figures  1978        84   \n",
       "2           0011-3           Castle 2 for 1 Bonus Offer  1987       199   \n",
       "3           0012-1                   Space Mini-Figures  1979       143   \n",
       "4           0013-1                   Space Mini-Figures  1979       143   \n",
       "...            ...                                  ...   ...       ...   \n",
       "15705      wwgp1-1  Wild West Limited Edition Gift Pack  1996       476   \n",
       "15706   XMASTREE-1                       Christmas Tree  2019       410   \n",
       "15707      XWING-1                  Mini X-Wing Fighter  2019       158   \n",
       "15708      XWING-2                    X-Wing Trench Run  2019       158   \n",
       "15709  YODACHRON-1      Yoda Chronicles Promotional Set  2013       158   \n",
       "\n",
       "       num_parts  \n",
       "0             43  \n",
       "1             12  \n",
       "2              0  \n",
       "3             12  \n",
       "4             12  \n",
       "...          ...  \n",
       "15705          0  \n",
       "15706         26  \n",
       "15707         60  \n",
       "15708         52  \n",
       "15709        413  \n",
       "\n",
       "[15710 rows x 5 columns]"
      ]
     },
     "execution_count": 61,
     "metadata": {},
     "output_type": "execute_result"
    }
   ],
   "source": [
    "df_sets"
   ]
  },
  {
   "cell_type": "code",
   "execution_count": 62,
   "metadata": {},
   "outputs": [],
   "source": [
    "s=pd.merge(df_sets,themes, left_on='theme_id',right_on='id', how='inner')"
   ]
  },
  {
   "cell_type": "code",
   "execution_count": 63,
   "metadata": {
    "scrolled": true
   },
   "outputs": [
    {
     "data": {
      "text/html": [
       "<div>\n",
       "<style scoped>\n",
       "    .dataframe tbody tr th:only-of-type {\n",
       "        vertical-align: middle;\n",
       "    }\n",
       "\n",
       "    .dataframe tbody tr th {\n",
       "        vertical-align: top;\n",
       "    }\n",
       "\n",
       "    .dataframe thead th {\n",
       "        text-align: right;\n",
       "    }\n",
       "</style>\n",
       "<table border=\"1\" class=\"dataframe\">\n",
       "  <thead>\n",
       "    <tr style=\"text-align: right;\">\n",
       "      <th></th>\n",
       "      <th>set_num</th>\n",
       "      <th>name_x</th>\n",
       "      <th>year</th>\n",
       "      <th>theme_id</th>\n",
       "      <th>num_parts</th>\n",
       "      <th>id</th>\n",
       "      <th>name_y</th>\n",
       "      <th>parent_id</th>\n",
       "    </tr>\n",
       "  </thead>\n",
       "  <tbody>\n",
       "    <tr>\n",
       "      <th>0</th>\n",
       "      <td>001-1</td>\n",
       "      <td>Gears</td>\n",
       "      <td>1965</td>\n",
       "      <td>1</td>\n",
       "      <td>43</td>\n",
       "      <td>1</td>\n",
       "      <td>Technic</td>\n",
       "      <td>NaN</td>\n",
       "    </tr>\n",
       "    <tr>\n",
       "      <th>1</th>\n",
       "      <td>002-1</td>\n",
       "      <td>4.5V Samsonite Gears Motor Set</td>\n",
       "      <td>1965</td>\n",
       "      <td>1</td>\n",
       "      <td>3</td>\n",
       "      <td>1</td>\n",
       "      <td>Technic</td>\n",
       "      <td>NaN</td>\n",
       "    </tr>\n",
       "    <tr>\n",
       "      <th>2</th>\n",
       "      <td>1030-1</td>\n",
       "      <td>TECHNIC I: Simple Machines Set</td>\n",
       "      <td>1985</td>\n",
       "      <td>1</td>\n",
       "      <td>191</td>\n",
       "      <td>1</td>\n",
       "      <td>Technic</td>\n",
       "      <td>NaN</td>\n",
       "    </tr>\n",
       "    <tr>\n",
       "      <th>3</th>\n",
       "      <td>1038-1</td>\n",
       "      <td>ERBIE the Robo-Car</td>\n",
       "      <td>1985</td>\n",
       "      <td>1</td>\n",
       "      <td>120</td>\n",
       "      <td>1</td>\n",
       "      <td>Technic</td>\n",
       "      <td>NaN</td>\n",
       "    </tr>\n",
       "    <tr>\n",
       "      <th>4</th>\n",
       "      <td>1039-1</td>\n",
       "      <td>Manual Control Set 1</td>\n",
       "      <td>1986</td>\n",
       "      <td>1</td>\n",
       "      <td>39</td>\n",
       "      <td>1</td>\n",
       "      <td>Technic</td>\n",
       "      <td>NaN</td>\n",
       "    </tr>\n",
       "    <tr>\n",
       "      <th>...</th>\n",
       "      <td>...</td>\n",
       "      <td>...</td>\n",
       "      <td>...</td>\n",
       "      <td>...</td>\n",
       "      <td>...</td>\n",
       "      <td>...</td>\n",
       "      <td>...</td>\n",
       "      <td>...</td>\n",
       "    </tr>\n",
       "    <tr>\n",
       "      <th>15705</th>\n",
       "      <td>K6762-1</td>\n",
       "      <td>Western Kit</td>\n",
       "      <td>2002</td>\n",
       "      <td>475</td>\n",
       "      <td>0</td>\n",
       "      <td>475</td>\n",
       "      <td>Western</td>\n",
       "      <td>NaN</td>\n",
       "    </tr>\n",
       "    <tr>\n",
       "      <th>15706</th>\n",
       "      <td>llca27-1</td>\n",
       "      <td>Legoland Pirate with Parrot (Legoland California)</td>\n",
       "      <td>2006</td>\n",
       "      <td>430</td>\n",
       "      <td>70</td>\n",
       "      <td>430</td>\n",
       "      <td>Pirates</td>\n",
       "      <td>425.0</td>\n",
       "    </tr>\n",
       "    <tr>\n",
       "      <th>15707</th>\n",
       "      <td>LLCA29-1</td>\n",
       "      <td>Pirate Treasure Chest Bank (LLCA Ambassador Pa...</td>\n",
       "      <td>2006</td>\n",
       "      <td>430</td>\n",
       "      <td>215</td>\n",
       "      <td>430</td>\n",
       "      <td>Pirates</td>\n",
       "      <td>425.0</td>\n",
       "    </tr>\n",
       "    <tr>\n",
       "      <th>15708</th>\n",
       "      <td>LLCA30-1</td>\n",
       "      <td>Pirate Ship Diorama (LLCA Ambassador Pass Excl...</td>\n",
       "      <td>2006</td>\n",
       "      <td>430</td>\n",
       "      <td>127</td>\n",
       "      <td>430</td>\n",
       "      <td>Pirates</td>\n",
       "      <td>425.0</td>\n",
       "    </tr>\n",
       "    <tr>\n",
       "      <th>15709</th>\n",
       "      <td>WEETABIX1-1</td>\n",
       "      <td>Weetabix Castle</td>\n",
       "      <td>1970</td>\n",
       "      <td>414</td>\n",
       "      <td>471</td>\n",
       "      <td>414</td>\n",
       "      <td>Castle</td>\n",
       "      <td>411.0</td>\n",
       "    </tr>\n",
       "  </tbody>\n",
       "</table>\n",
       "<p>15710 rows × 8 columns</p>\n",
       "</div>"
      ],
      "text/plain": [
       "           set_num                                             name_x  year  \\\n",
       "0            001-1                                              Gears  1965   \n",
       "1            002-1                     4.5V Samsonite Gears Motor Set  1965   \n",
       "2           1030-1                     TECHNIC I: Simple Machines Set  1985   \n",
       "3           1038-1                                 ERBIE the Robo-Car  1985   \n",
       "4           1039-1                               Manual Control Set 1  1986   \n",
       "...            ...                                                ...   ...   \n",
       "15705      K6762-1                                        Western Kit  2002   \n",
       "15706     llca27-1  Legoland Pirate with Parrot (Legoland California)  2006   \n",
       "15707     LLCA29-1  Pirate Treasure Chest Bank (LLCA Ambassador Pa...  2006   \n",
       "15708     LLCA30-1  Pirate Ship Diorama (LLCA Ambassador Pass Excl...  2006   \n",
       "15709  WEETABIX1-1                                    Weetabix Castle  1970   \n",
       "\n",
       "       theme_id  num_parts   id   name_y  parent_id  \n",
       "0             1         43    1  Technic        NaN  \n",
       "1             1          3    1  Technic        NaN  \n",
       "2             1        191    1  Technic        NaN  \n",
       "3             1        120    1  Technic        NaN  \n",
       "4             1         39    1  Technic        NaN  \n",
       "...         ...        ...  ...      ...        ...  \n",
       "15705       475          0  475  Western        NaN  \n",
       "15706       430         70  430  Pirates      425.0  \n",
       "15707       430        215  430  Pirates      425.0  \n",
       "15708       430        127  430  Pirates      425.0  \n",
       "15709       414        471  414   Castle      411.0  \n",
       "\n",
       "[15710 rows x 8 columns]"
      ]
     },
     "execution_count": 63,
     "metadata": {},
     "output_type": "execute_result"
    }
   ],
   "source": [
    "s"
   ]
  },
  {
   "cell_type": "code",
   "execution_count": 66,
   "metadata": {
    "scrolled": true
   },
   "outputs": [],
   "source": [
    "index=['Star Wars', 'Gear', 'Friends', 'Ninjago', 'Key Chain',\n",
    "       'Basic Set', 'Books', 'Town', 'Supplemental', 'Duplo and Explore']"
   ]
  },
  {
   "cell_type": "code",
   "execution_count": 69,
   "metadata": {},
   "outputs": [
    {
     "data": {
      "text/plain": [
       "Text(0.5, 1.0, 'LEGO counts')"
      ]
     },
     "execution_count": 69,
     "metadata": {},
     "output_type": "execute_result"
    },
    {
     "data": {
      "image/png": "[encoded data removed]",
      "text/plain": [
       "<Figure size 640x480 with 1 Axes>"
      ]
     },
     "metadata": {},
     "output_type": "display_data"
    }
   ],
   "source": [
    "plt.bar(index, s.groupby(by=['name_y']).theme_id.count()[index])\n",
    "plt.xticks(rotation=85)\n",
    "plt.xlabel('LEGO')\n",
    "plt.ylabel('count')\n",
    "plt.title('LEGO counts')"
   ]
  },
  {
   "cell_type": "markdown",
   "metadata": {},
   "source": [
    "### **It seems LEGO is pretty good at making themes on Star Wars, Ninjago etc**\n",
    "### **but it is also making products on key chains, supplementals ??**\n",
    "### **Has LEGO strayed from its core business or is it successfully diversifying?**\n",
    "### **That we can't answer from our dataset. It's one up to a business school case study to decide. 🤷‍♀️**"
   ]
  },
  {
   "cell_type": "markdown",
   "metadata": {},
   "source": [
    "**Which theme has the highest number of LEGO sets**"
   ]
  },
  {
   "cell_type": "code",
   "execution_count": 70,
   "metadata": {},
   "outputs": [
    {
     "data": {
      "text/plain": [
       "theme_id\n",
       "158    753\n",
       "501    656\n",
       "494    398\n",
       "435    356\n",
       "503    329\n",
       "Name: set_num, dtype: int64"
      ]
     },
     "execution_count": 70,
     "metadata": {},
     "output_type": "execute_result"
    }
   ],
   "source": [
    "df_sets.groupby('theme_id').set_num.count().nlargest()"
   ]
  },
  {
   "cell_type": "code",
   "execution_count": 71,
   "metadata": {},
   "outputs": [
    {
     "data": {
      "text/plain": [
       "array(['Star Wars'], dtype=object)"
      ]
     },
     "execution_count": 71,
     "metadata": {},
     "output_type": "execute_result"
    }
   ],
   "source": [
    "s[s.theme_id == 158].name_y.unique()"
   ]
  },
  {
   "cell_type": "code",
   "execution_count": 72,
   "metadata": {},
   "outputs": [
    {
     "data": {
      "text/plain": [
       "array(['Harry Potter and Fantastic Beasts Series 1'], dtype=object)"
      ]
     },
     "execution_count": 72,
     "metadata": {},
     "output_type": "execute_result"
    }
   ],
   "source": [
    "s[s.theme_id == 656].name_y.unique()"
   ]
  },
  {
   "cell_type": "code",
   "execution_count": 73,
   "metadata": {},
   "outputs": [
    {
     "data": {
      "text/plain": [
       "array(['FIRST LEGO League'], dtype=object)"
      ]
     },
     "execution_count": 73,
     "metadata": {},
     "output_type": "execute_result"
    }
   ],
   "source": [
    "s[s.theme_id == 398].name_y.unique()"
   ]
  },
  {
   "cell_type": "code",
   "execution_count": 74,
   "metadata": {},
   "outputs": [
    {
     "data": {
      "text/plain": [
       "array(['Turaga'], dtype=object)"
      ]
     },
     "execution_count": 74,
     "metadata": {},
     "output_type": "execute_result"
    }
   ],
   "source": [
    "s[s.theme_id == 356].name_y.unique()"
   ]
  },
  {
   "cell_type": "code",
   "execution_count": 75,
   "metadata": {},
   "outputs": [
    {
     "data": {
      "text/plain": [
       "array(['Bohrok Va'], dtype=object)"
      ]
     },
     "execution_count": 75,
     "metadata": {},
     "output_type": "execute_result"
    }
   ],
   "source": [
    "s[s.theme_id == 329].name_y.unique()"
   ]
  }
 ],
 "metadata": {
  "colab": {
   "name": "Lego Analysis for Course (start).ipynb",
   "provenance": []
  },
  "kernelspec": {
   "display_name": "Python 3 (ipykernel)",
   "language": "python",
   "name": "python3"
  },
  "language_info": {
   "codemirror_mode": {
    "name": "ipython",
    "version": 3
   },
   "file_extension": ".py",
   "mimetype": "text/x-python",
   "name": "python",
   "nbconvert_exporter": "python",
   "pygments_lexer": "ipython3",
   "version": "3.11.5"
  }
 },
 "nbformat": 4,
 "nbformat_minor": 1
}
